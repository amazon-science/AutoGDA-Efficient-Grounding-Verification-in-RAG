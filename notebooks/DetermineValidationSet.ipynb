{
 "cells": [
  {
   "cell_type": "markdown",
   "id": "7e76dffe-f9ea-492e-9189-34a80f38117a",
   "metadata": {},
   "source": [
    "## Determine size of validation set"
   ]
  },
  {
   "cell_type": "markdown",
   "id": "daa2ab4a-8c64-4db3-9d5f-6a1d6b86050e",
   "metadata": {},
   "source": [
    "We use this notebook to check the training efficiency of the validation set. See ```scr\\scripts\\determine_validation_set_size.py```.\n",
    "Then we collect the result here."
   ]
  },
  {
   "cell_type": "code",
   "execution_count": 2,
   "id": "9343db7e-f168-4bf4-99c8-d130d0ed47f6",
   "metadata": {},
   "outputs": [],
   "source": [
    "import os\n",
    "os.environ[\"CUDA_VISIBLE_DEVICES\"]=\"2\"\n",
    "os.environ[\"TOKENIZERS_PARALLELISM\"]=\"false\"\n",
    "os.environ[\"AWS_REGION_NAME\"] = 'us-east-1'"
   ]
  },
  {
   "cell_type": "code",
   "execution_count": 3,
   "id": "8da2fe19-e4dd-4e5d-9c81-e1627161ba5a",
   "metadata": {},
   "outputs": [],
   "source": [
    "import os\n",
    "os.chdir(\"../\")"
   ]
  },
  {
   "cell_type": "code",
   "execution_count": 16,
   "id": "112ad9f3-dc43-4d75-86da-2a14451b2925",
   "metadata": {},
   "outputs": [
    {
     "name": "stdout",
     "output_type": "stream",
     "text": [
      "0.784 & 0.750 & 0.899 & 0.890 & 0.831 \n"
     ]
    }
   ],
   "source": [
    "import json\n",
    "import numpy as np\n",
    "datasets = [(\"ragtruth\", \"Summary\", 24), (\"ragtruth\", \"QA\", 24), (\"lfqa-veri\", \"all\", 100), (\"summedits\", \"all\", 100)]\n",
    "res_str = \"\"\n",
    "res_all_list = []\n",
    "for dset, dgroup, valset_size in datasets:\n",
    "    res = json.load(open(f\"results/val_set_size_{dset}-{dgroup}.json\"))\n",
    "    all_roc = list([item[\"roc\"] for item in res[str(valset_size)].values()])\n",
    "    res_str += f\"{np.max(all_roc):.3f} & \"\n",
    "    res_all_list.append(np.max(all_roc))\n",
    "res_str += f\"{np.mean(res_all_list):.3f} \"\n",
    "print(res_str)"
   ]
  },
  {
   "cell_type": "code",
   "execution_count": null,
   "id": "7ff21e38-10f8-4425-8277-476dcb7727e0",
   "metadata": {},
   "outputs": [],
   "source": []
  }
 ],
 "metadata": {
  "kernelspec": {
   "display_name": "Python 3 (ipykernel)",
   "language": "python",
   "name": "python3"
  },
  "language_info": {
   "codemirror_mode": {
    "name": "ipython",
    "version": 3
   },
   "file_extension": ".py",
   "mimetype": "text/x-python",
   "name": "python",
   "nbconvert_exporter": "python",
   "pygments_lexer": "ipython3",
   "version": "3.10.9"
  }
 },
 "nbformat": 4,
 "nbformat_minor": 5
}
