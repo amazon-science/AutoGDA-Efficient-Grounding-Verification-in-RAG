{
 "cells": [
  {
   "cell_type": "markdown",
   "metadata": {},
   "source": [
    "This is a short notebook testing that we can read academic and internal datasets that we use in our experimentation on hallucination detection and save some dataset statistics on our S3 bucket"
   ]
  },
  {
   "cell_type": "code",
   "execution_count": 1,
   "metadata": {},
   "outputs": [],
   "source": [
    "import sys\n",
    "sys.path.append(\"../src\")\n",
    "from utils.datasets import DATA_LOADER_FN\n",
    "from utils.s3 import upload_csv_to_s3\n",
    "from utils.constants import _BUCKET_NAME\n",
    "import pandas as pd "
   ]
  },
  {
   "cell_type": "markdown",
   "metadata": {},
   "source": [
    "We iterate through used datasets, read them from their S3 location and compute their shape after being formatted"
   ]
  },
  {
   "cell_type": "code",
   "execution_count": 48,
   "metadata": {},
   "outputs": [],
   "source": [
    "df_stats = []\n",
    "for (k, v) in DATA_LOADER_FN.items():\n",
    "    df_stats.append((k, v().df.shape))\n",
    "assert len(df_stats) == len(DATA_LOADER_FN)\n",
    "df = pd.DataFrame(df_stats, columns=['Dataset name', 'Dataset shape'])\n"
   ]
  },
  {
   "cell_type": "markdown",
   "metadata": {},
   "source": [
    "We save the dataset shapes information as a CSV file on an S3 location"
   ]
  },
  {
   "cell_type": "code",
   "execution_count": 53,
   "metadata": {},
   "outputs": [],
   "source": [
    "upload_csv_to_s3(df, _BUCKET_NAME, 'benchmark_data_stats.csv')"
   ]
  }
 ],
 "metadata": {
  "kernelspec": {
   "display_name": "Python 3 (ipykernel)",
   "language": "python",
   "name": "python3"
  },
  "language_info": {
   "codemirror_mode": {
    "name": "ipython",
    "version": 3
   },
   "file_extension": ".py",
   "mimetype": "text/x-python",
   "name": "python",
   "nbconvert_exporter": "python",
   "pygments_lexer": "ipython3",
   "version": "3.11.5"
  }
 },
 "nbformat": 4,
 "nbformat_minor": 4
}
