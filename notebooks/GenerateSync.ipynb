{
 "cells": [
  {
   "cell_type": "markdown",
   "id": "06b33cbf-8bbe-4b70-ab2b-a93e02d1d5a7",
   "metadata": {},
   "source": [
    "## Generate Synthetic Data"
   ]
  },
  {
   "cell_type": "markdown",
   "id": "231e9fba-6e3d-46df-8e96-823315aab44c",
   "metadata": {},
   "source": [
    "Use this notebook to generate the synthetic data for the datasets offline."
   ]
  },
  {
   "cell_type": "markdown",
   "id": "d9d13e57-a8f5-4eb7-8779-26192c457f02",
   "metadata": {},
   "source": [
    "The synthetic data will be stored in files named ```sync_data/ClaudeFewShot_{dataset}-{group}.csv``` and also uploaded to the EC2 instance."
   ]
  },
  {
   "cell_type": "code",
   "execution_count": 1,
   "id": "125c5dd0-0f83-409e-b61d-9c489d7adda5",
   "metadata": {},
   "outputs": [],
   "source": [
    "import os\n",
    "os.chdir(\"..\")\n",
    "os.environ[\"CUDA_VISIBLE_DEVICES\"]=\"0\"\n",
    "os.environ[\"TOKENIZERS_PARALLELISM\"]=\"false\"\n",
    "os.environ[\"AWS_REGION_NAME\"] = 'us-east-1'"
   ]
  },
  {
   "cell_type": "code",
   "execution_count": 2,
   "id": "4848446b-e39d-4c12-8fc0-d3efb30af114",
   "metadata": {},
   "outputs": [],
   "source": [
    "%load_ext autoreload\n",
    "%autoreload 2"
   ]
  },
  {
   "cell_type": "code",
   "execution_count": 3,
   "id": "5910e7b0-fa15-48af-afb4-512b0b7e193e",
   "metadata": {},
   "outputs": [],
   "source": [
    "import pandas as pd"
   ]
  },
  {
   "cell_type": "code",
   "execution_count": 4,
   "id": "a2f5d16a-98e7-4afd-b98b-984cd73376a5",
   "metadata": {},
   "outputs": [
    {
     "name": "stdout",
     "output_type": "stream",
     "text": [
      "src.cross_encoder_model.my_evaluator\n"
     ]
    }
   ],
   "source": [
    "from src.sync_data.evaluators import NLIFinetuningEvaluation\n",
    "from src.sync_data.compute_entailments import EntailmentCheckModel\n",
    "from src.utils.script_utils import get_datasets\n",
    "from src.sync_data.initial_generators import FewShotPromptingGenerator"
   ]
  },
  {
   "cell_type": "code",
   "execution_count": 5,
   "id": "b5cf04d9-cd1a-42a8-b6ee-de13b91dfc01",
   "metadata": {},
   "outputs": [],
   "source": [
    "from src.utils.s3 import upload_csv_to_s3\n",
    "from src.utils.constants import _BUCKET_NAME, _BUCKET_ROOTPATH"
   ]
  },
  {
   "cell_type": "code",
   "execution_count": 6,
   "id": "58cd5fe2-8d9b-47fc-9140-30e067485431",
   "metadata": {},
   "outputs": [],
   "source": [
    "os.makedirs(\"sync_data\", exist_ok=True)"
   ]
  },
  {
   "cell_type": "code",
   "execution_count": null,
   "id": "66320aec-f88a-4200-9c8f-6d2accf71947",
   "metadata": {
    "scrolled": true
   },
   "outputs": [],
   "source": [
    "lfqa_group=[\"all\"] #specify groups here\n",
    "dataset = \"lfqa-veri\"\n",
    "model_name = \"claude3-haiku\" # or use \"gpt-4o-mini\"\n",
    "for group in lfqa_group:\n",
    "    print(group)\n",
    "    group_train, _ , _ = get_datasets(dataset, group=group)\n",
    "    existing_df = None\n",
    "    mygen = FewShotPromptingGenerator(EntailmentCheckModel(\"vectara_v2\"), model_name=model_name, min_req_examples=1, prompt_mode=\"qa2\" if dataset in [\"expertqa\", \"lfqa-veri\"] else \"summ\")\n",
    "    res = mygen.generate_samples(group_train, 8)\n",
    "    res = res.to_dataframe()\n",
    "    if existing_df is not None:\n",
    "        res = pd.concat((existing_df, res), axis=0, ignore_index=True)\n",
    "    target_filename = f\"sync_data/ClaudeFewShot_{dataset}-{group}.csv\"\n",
    "    res.to_csv(target_filename, index=False) # Save locally\n",
    "    try:\n",
    "        upload_csv_to_s3(res, _BUCKET_NAME, os.path.join(_BUCKET_ROOTPATH, target_filename)) # Save in S3\n",
    "    except:\n",
    "        print(\"unable to upload to S3\")"
   ]
  }
 ],
 "metadata": {
  "kernelspec": {
   "display_name": "autogda",
   "language": "python",
   "name": "autogda"
  },
  "language_info": {
   "codemirror_mode": {
    "name": "ipython",
    "version": 3
   },
   "file_extension": ".py",
   "mimetype": "text/x-python",
   "name": "python",
   "nbconvert_exporter": "python",
   "pygments_lexer": "ipython3",
   "version": "3.10.16"
  }
 },
 "nbformat": 4,
 "nbformat_minor": 5
}
