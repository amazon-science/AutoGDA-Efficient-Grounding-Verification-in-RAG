{
 "cells": [
  {
   "cell_type": "markdown",
   "id": "895e647b-3d08-4982-bef8-74d9c09754d3",
   "metadata": {},
   "source": [
    "## Mutation Examples"
   ]
  },
  {
   "cell_type": "markdown",
   "id": "3039be34-0759-4e4e-a402-eaa40b12227a",
   "metadata": {},
   "source": [
    "This notebook contains the code for some example mutations that are obtained through the mutation strategies we implemented in this work. \n",
    "They can be used for illustrative purposes."
   ]
  },
  {
   "cell_type": "code",
   "execution_count": 1,
   "id": "842f5543-0d39-441a-a98c-f8198ef3e833",
   "metadata": {},
   "outputs": [],
   "source": [
    "import os\n",
    "os.environ[\"CUDA_VISIBLE_DEVICES\"]=\"1\"\n",
    "os.environ[\"TOKENIZERS_PARALLELISM\"]=\"false\"\n",
    "os.environ[\"AWS_REGION_NAME\"] = 'us-east-1'"
   ]
  },
  {
   "cell_type": "code",
   "execution_count": 3,
   "id": "aff55b1b-ba74-4b43-98a7-c2f468d428bc",
   "metadata": {},
   "outputs": [],
   "source": [
    "from src.sync_data.pc_mutations import LLMFillInTheGapsMutation, DropSentenceMutation, RephraseMutation"
   ]
  },
  {
   "cell_type": "code",
   "execution_count": 27,
   "id": "60c52513-7d31-4b0f-ba97-3b5cf0471600",
   "metadata": {},
   "outputs": [],
   "source": [
    "llmmutations = LLMFillInTheGapsMutation(device=\"cuda\", n_mutations=2, model_name=\"claude3-haiku\", batch_size=10,\n",
    "                                        temperature=1.0, mask_output_perc=0.3, connected=True, n_multiply=3, n_threads=1,\n",
    "                                        preserve_meaning=True, entail_model=None)"
   ]
  },
  {
   "cell_type": "code",
   "execution_count": 31,
   "id": "77f2baa3-2d63-411a-90b7-e29111d6dbfc",
   "metadata": {},
   "outputs": [],
   "source": [
    "# Use leadership principle\n",
    "test_example = \"Bias for Action: Speed matters in business. Many decisions and actions are reversible and do not need extensive study. We value calculated risk taking.\""
   ]
  },
  {
   "cell_type": "code",
   "execution_count": 34,
   "id": "9ea70325-d476-4fb6-99eb-4306edee1970",
   "metadata": {},
   "outputs": [
    {
     "name": "stdout",
     "output_type": "stream",
     "text": [
      "Done at index  0\n"
     ]
    }
   ],
   "source": [
    "out_texts, refs = llmmutations.mutate([test_example])"
   ]
  },
  {
   "cell_type": "code",
   "execution_count": 35,
   "id": "571fc0dd-8de0-4058-8f9f-533611f8724f",
   "metadata": {},
   "outputs": [
    {
     "data": {
      "text/plain": [
       "['Bias for Action: Speed matters in business. Many decisions and actions are reversible and can be adjusted as needed. We value calculated risk taking that allows us to move quickly and adapt to changing circumstances.',\n",
       " 'Bias for Action: Speed matters in business. Many decisions and actions are reversible and do not require extensive analysis paralysis. We value a bias towards action and calculated risk taking that enables us to respond agilely to market demands.',\n",
       " 'Bias for Action: Speed matters in business. Rapid, responsive decisions and actions are reversible and do not need extensive study. We value calculated risk taking.',\n",
       " 'Bias for Action: Speed matters in business. Quick, agile decisions and actions are reversible and do not need extensive study. We value calculated risk taking.',\n",
       " 'Bias for Action: Speed matters in business. Many decisions and actions are reversible and do not need extensive study. We value calculated risk taking.',\n",
       " 'Bias for Action: Speed matters in business. Many decisions and actions are reversible and do not require lengthy deliberation. We encourage calculated risk taking.']"
      ]
     },
     "execution_count": 35,
     "metadata": {},
     "output_type": "execute_result"
    }
   ],
   "source": [
    "out_texts"
   ]
  },
  {
   "cell_type": "code",
   "execution_count": 36,
   "id": "26481654-c48b-45b4-833b-d3b49dc8686c",
   "metadata": {},
   "outputs": [],
   "source": [
    "dsmut = DropSentenceMutation(n_mutations=3)"
   ]
  },
  {
   "cell_type": "code",
   "execution_count": 39,
   "id": "a4b4a562-8dbf-47b7-a555-c1b8f1b0b105",
   "metadata": {},
   "outputs": [],
   "source": [
    "out_texts, refs = dsmut.mutate([test_example])"
   ]
  },
  {
   "cell_type": "code",
   "execution_count": 40,
   "id": "31cdce31-4238-42b7-a151-c1e486349ee4",
   "metadata": {},
   "outputs": [
    {
     "data": {
      "text/plain": [
       "['Many decisions and actions are reversible and do not need extensive study. We value calculated risk taking.',\n",
       " 'Bias for Action: Speed matters in business. We value calculated risk taking.',\n",
       " 'Bias for Action: Speed matters in business. We value calculated risk taking.']"
      ]
     },
     "execution_count": 40,
     "metadata": {},
     "output_type": "execute_result"
    }
   ],
   "source": [
    "out_texts"
   ]
  },
  {
   "cell_type": "code",
   "execution_count": 54,
   "id": "254ee532-34d2-477a-92d0-b1db5cb51208",
   "metadata": {},
   "outputs": [],
   "source": [
    "dsmut = RephraseMutation(n_mutations=3, no_repeat_ngram_size=8, diversity_penalty=20.0, num_beam_groups=3, do_sample=False)"
   ]
  },
  {
   "cell_type": "code",
   "execution_count": 55,
   "id": "15f01154-3be6-4bcc-b06f-1acced199683",
   "metadata": {},
   "outputs": [],
   "source": [
    "out_texts, refs = dsmut.mutate([test_example])"
   ]
  },
  {
   "cell_type": "code",
   "execution_count": 56,
   "id": "9a65e5e6-ab52-46d6-a85d-8c40719d63f6",
   "metadata": {},
   "outputs": [
    {
     "data": {
      "text/plain": [
       "['Business is influenced by swiftness, and many decisions and actions can be reversed without much research. We prioritize calculated risk taking.',\n",
       " 'Speed plays an important role in business; many decisions and actions can be reversed without much research. We value calculated risk taking.',\n",
       " 'Inaction is a disadvantage in business. Many choices are reversible and do not require meticulous analysis. We prioritize calculated risk taking.']"
      ]
     },
     "execution_count": 56,
     "metadata": {},
     "output_type": "execute_result"
    }
   ],
   "source": [
    "out_texts"
   ]
  },
  {
   "cell_type": "code",
   "execution_count": 1,
   "id": "f9db97c5-5a27-4071-9801-e7caa8d355e3",
   "metadata": {},
   "outputs": [],
   "source": [
    "import pandas as pd"
   ]
  },
  {
   "cell_type": "code",
   "execution_count": 2,
   "id": "5e54845a-8963-44d0-9235-91a340efafa9",
   "metadata": {},
   "outputs": [],
   "source": [
    "res = pd.read_csv(\"sync_data/ClaudeFewShot_lfqa-veri-all.csv\")"
   ]
  },
  {
   "cell_type": "code",
   "execution_count": 3,
   "id": "483351cc-8243-45dd-a124-b1adf13f8a80",
   "metadata": {},
   "outputs": [
    {
     "data": {
      "text/html": [
       "<div>\n",
       "<style scoped>\n",
       "    .dataframe tbody tr th:only-of-type {\n",
       "        vertical-align: middle;\n",
       "    }\n",
       "\n",
       "    .dataframe tbody tr th {\n",
       "        vertical-align: top;\n",
       "    }\n",
       "\n",
       "    .dataframe thead th {\n",
       "        text-align: right;\n",
       "    }\n",
       "</style>\n",
       "<table border=\"1\" class=\"dataframe\">\n",
       "  <thead>\n",
       "    <tr style=\"text-align: right;\">\n",
       "      <th></th>\n",
       "      <th>Unnamed: 0</th>\n",
       "      <th>tag_0</th>\n",
       "      <th>tag_1</th>\n",
       "      <th>sample</th>\n",
       "      <th>ref</th>\n",
       "      <th>p_agree</th>\n",
       "      <th>p_init</th>\n",
       "    </tr>\n",
       "  </thead>\n",
       "  <tbody>\n",
       "    <tr>\n",
       "      <th>0</th>\n",
       "      <td>0</td>\n",
       "      <td>You are given the question: Why am I unstable ...</td>\n",
       "      <td>0</td>\n",
       "      <td>When a bike is stationary, it has no angular m...</td>\n",
       "      <td>0</td>\n",
       "      <td>1.0</td>\n",
       "      <td>0.500000</td>\n",
       "    </tr>\n",
       "    <tr>\n",
       "      <th>1</th>\n",
       "      <td>1</td>\n",
       "      <td>You are given the question: Why am I unstable ...</td>\n",
       "      <td>0</td>\n",
       "      <td>The key difference between a stationary and a ...</td>\n",
       "      <td>1</td>\n",
       "      <td>1.0</td>\n",
       "      <td>0.500000</td>\n",
       "    </tr>\n",
       "    <tr>\n",
       "      <th>2</th>\n",
       "      <td>2</td>\n",
       "      <td>You are given the question: Why am I unstable ...</td>\n",
       "      <td>0</td>\n",
       "      <td>When a bike is stationary, it has no angular m...</td>\n",
       "      <td>2</td>\n",
       "      <td>1.0</td>\n",
       "      <td>0.000066</td>\n",
       "    </tr>\n",
       "    <tr>\n",
       "      <th>3</th>\n",
       "      <td>3</td>\n",
       "      <td>You are given the question: Why am I unstable ...</td>\n",
       "      <td>0</td>\n",
       "      <td>When a bike is stationary, it has no angular m...</td>\n",
       "      <td>3</td>\n",
       "      <td>1.0</td>\n",
       "      <td>0.000001</td>\n",
       "    </tr>\n",
       "    <tr>\n",
       "      <th>4</th>\n",
       "      <td>4</td>\n",
       "      <td>You are given the question: Why am I unstable ...</td>\n",
       "      <td>0</td>\n",
       "      <td>When a bike is stationary, it has no angular m...</td>\n",
       "      <td>4</td>\n",
       "      <td>1.0</td>\n",
       "      <td>0.500000</td>\n",
       "    </tr>\n",
       "    <tr>\n",
       "      <th>...</th>\n",
       "      <td>...</td>\n",
       "      <td>...</td>\n",
       "      <td>...</td>\n",
       "      <td>...</td>\n",
       "      <td>...</td>\n",
       "      <td>...</td>\n",
       "      <td>...</td>\n",
       "    </tr>\n",
       "    <tr>\n",
       "      <th>1321</th>\n",
       "      <td>1321</td>\n",
       "      <td>You are given the question: Do people who hear...</td>\n",
       "      <td>1</td>\n",
       "      <td>The background information indicates that peop...</td>\n",
       "      <td>3</td>\n",
       "      <td>1.0</td>\n",
       "      <td>1.000000</td>\n",
       "    </tr>\n",
       "    <tr>\n",
       "      <th>1322</th>\n",
       "      <td>1322</td>\n",
       "      <td>You are given the question: Do people who hear...</td>\n",
       "      <td>1</td>\n",
       "      <td>People who receive cochlear implants for the f...</td>\n",
       "      <td>4</td>\n",
       "      <td>1.0</td>\n",
       "      <td>0.999999</td>\n",
       "    </tr>\n",
       "    <tr>\n",
       "      <th>1323</th>\n",
       "      <td>1323</td>\n",
       "      <td>You are given the question: Do people who hear...</td>\n",
       "      <td>1</td>\n",
       "      <td>The background information indicates that peop...</td>\n",
       "      <td>5</td>\n",
       "      <td>1.0</td>\n",
       "      <td>1.000000</td>\n",
       "    </tr>\n",
       "    <tr>\n",
       "      <th>1324</th>\n",
       "      <td>1324</td>\n",
       "      <td>You are given the question: Do people who hear...</td>\n",
       "      <td>1</td>\n",
       "      <td>Cochlear implants work by capturing sound sign...</td>\n",
       "      <td>6</td>\n",
       "      <td>1.0</td>\n",
       "      <td>1.000000</td>\n",
       "    </tr>\n",
       "    <tr>\n",
       "      <th>1325</th>\n",
       "      <td>1325</td>\n",
       "      <td>You are given the question: Do people who hear...</td>\n",
       "      <td>1</td>\n",
       "      <td>The background information indicates that whil...</td>\n",
       "      <td>7</td>\n",
       "      <td>1.0</td>\n",
       "      <td>1.000000</td>\n",
       "    </tr>\n",
       "  </tbody>\n",
       "</table>\n",
       "<p>1326 rows × 7 columns</p>\n",
       "</div>"
      ],
      "text/plain": [
       "      Unnamed: 0                                              tag_0  tag_1  \\\n",
       "0              0  You are given the question: Why am I unstable ...      0   \n",
       "1              1  You are given the question: Why am I unstable ...      0   \n",
       "2              2  You are given the question: Why am I unstable ...      0   \n",
       "3              3  You are given the question: Why am I unstable ...      0   \n",
       "4              4  You are given the question: Why am I unstable ...      0   \n",
       "...          ...                                                ...    ...   \n",
       "1321        1321  You are given the question: Do people who hear...      1   \n",
       "1322        1322  You are given the question: Do people who hear...      1   \n",
       "1323        1323  You are given the question: Do people who hear...      1   \n",
       "1324        1324  You are given the question: Do people who hear...      1   \n",
       "1325        1325  You are given the question: Do people who hear...      1   \n",
       "\n",
       "                                                 sample  ref  p_agree  \\\n",
       "0     When a bike is stationary, it has no angular m...    0      1.0   \n",
       "1     The key difference between a stationary and a ...    1      1.0   \n",
       "2     When a bike is stationary, it has no angular m...    2      1.0   \n",
       "3     When a bike is stationary, it has no angular m...    3      1.0   \n",
       "4     When a bike is stationary, it has no angular m...    4      1.0   \n",
       "...                                                 ...  ...      ...   \n",
       "1321  The background information indicates that peop...    3      1.0   \n",
       "1322  People who receive cochlear implants for the f...    4      1.0   \n",
       "1323  The background information indicates that peop...    5      1.0   \n",
       "1324  Cochlear implants work by capturing sound sign...    6      1.0   \n",
       "1325  The background information indicates that whil...    7      1.0   \n",
       "\n",
       "        p_init  \n",
       "0     0.500000  \n",
       "1     0.500000  \n",
       "2     0.000066  \n",
       "3     0.000001  \n",
       "4     0.500000  \n",
       "...        ...  \n",
       "1321  1.000000  \n",
       "1322  0.999999  \n",
       "1323  1.000000  \n",
       "1324  1.000000  \n",
       "1325  1.000000  \n",
       "\n",
       "[1326 rows x 7 columns]"
      ]
     },
     "execution_count": 3,
     "metadata": {},
     "output_type": "execute_result"
    }
   ],
   "source": [
    "res"
   ]
  },
  {
   "cell_type": "code",
   "execution_count": 6,
   "id": "35fb1139-eb75-4442-824c-58581317f062",
   "metadata": {},
   "outputs": [
    {
     "data": {
      "text/plain": [
       "\"You are given the question: Why am I unstable on my bike when it's stationary but not when it's moving? Here is some information related to the question: The gyroscopic effect is important; it allows one to affect a bike's lean by applying steering force. But it is not the effect that explains why it is possible to balance while moving and practically impossible when stationary. There are in fact 3 phases: 1. When stationary, it is hard to balance; 2. When moving too slowly for gyro effects to matter (below a fast walking pace), you tend to meander around while balancing; 3. When moving above a walking pace, it's easy to balance with hardly any meander, one can also ride with no hands. Why is it that it's much easier to balance on a moving bike than a stationary one? I've heard a few different answers:\\n\\n1. The wheels of the bike each have their own angular momentum vectors, which like to stay pointed in the same direction, and hence resist tipping from side to side (sort of like a gyroscope).\\n\\n2. Since the bike is moving, any tipping to one side or the other can easily be corrected by turning the front wheel slightly to one side and getting a mv^2/r force that will tend to counteract the tipping. The greater the bike's velocity, the bigger this force is.\\n\\n3. Something to do with speed making it easier for a rider to orient his/her center of mass in line with the frame of the bike. Not sure how that would work, admittedly. Angular momentum is a vector quantity, so direction matters. If the angular momentum remains constant, the direction of the rotation remains constant.\\n\\n\\nLance Armstrong and other bike riders use this principle to remain balanced. The spinning wheels of moving bicycles remain pointed in the same direction if there are no external torques. Hence a moving bicycle is easier to balance than a stationary bicycle. A bike has two features that help this dynamic stability immensely: its wheels. Spinning wheels have angular momentum, and when you're sitting on a bike, you and it and its wheels make up a system that obeys the principle of conservation of angular momentum. Unless torque, or twisting force, is applied from outside the system to change the wheels' angular momentum, that momentum and the direction of the momentum remain constant. In a nutshell, once the wheels line up a certain way, they want to stay lined up like that. It's easy for you to move them, but hard for an outside force to do the same, and so the bike is easy to keep balanced but doesn't topple easily. A non-moving bike has wheels that aren't spinning and zero angular momentum, which makes it very easy for external torque to change the wheels' direction, making the bike harder to balance.\""
      ]
     },
     "execution_count": 6,
     "metadata": {},
     "output_type": "execute_result"
    }
   ],
   "source": [
    "res.iloc[0].tag_0"
   ]
  },
  {
   "cell_type": "code",
   "execution_count": 11,
   "id": "d808fc0d-592e-4ff9-ae01-a10b1b9f9ca0",
   "metadata": {},
   "outputs": [
    {
     "data": {
      "text/plain": [
       "\"The key difference between a stationary and a moving bike is the presence of gyroscopic forces. When the bike is stationary, the wheels have no angular momentum, making the bike susceptible to external forces that can cause it to tip over. However, when the bike is moving, the spinning wheels create a gyroscopic effect that helps to stabilize the bike. This gyroscopic effect is caused by the conservation of angular momentum, which means that the wheels want to maintain their current orientation. Additionally, the moving bike experiences a centrifugal force that pushes the bike outwards, helping to keep it upright. This centrifugal force is proportional to the square of the bike's velocity, making it more effective at higher speeds. Finally, the rider's ability to shift their weight and steer the bike becomes more important at higher speeds, allowing them to maintain balance more easily.\""
      ]
     },
     "execution_count": 11,
     "metadata": {},
     "output_type": "execute_result"
    }
   ],
   "source": [
    "res.iloc[1][\"sample\"]"
   ]
  },
  {
   "cell_type": "code",
   "execution_count": 10,
   "id": "bf8224d3-228f-44ee-8e3f-b38f1bbcc0f8",
   "metadata": {},
   "outputs": [
    {
     "data": {
      "text/plain": [
       "\"When a bike is stationary, it has no angular momentum, making it difficult to balance. However, when the bike is moving, the spinning wheels create a magnetic field that helps to stabilize the bike. This magnetic field is caused by the conservation of angular momentum, which means that the wheels want to maintain their current orientation. Additionally, the moving bike experiences a gravitational force that pulls the bike downwards, helping to keep it upright. This gravitational force is proportional to the square of the bike's velocity, making it more effective at higher speeds. Finally, the rider's ability to shift their weight and steer the bike becomes more important at higher speeds, allowing them to maintain balance more easily.\""
      ]
     },
     "execution_count": 10,
     "metadata": {},
     "output_type": "execute_result"
    }
   ],
   "source": [
    "res.iloc[2][\"sample\"]"
   ]
  },
  {
   "cell_type": "code",
   "execution_count": 9,
   "id": "b2629969-949b-48f8-8f25-2c5c80186703",
   "metadata": {},
   "outputs": [
    {
     "data": {
      "text/plain": [
       "1"
      ]
     },
     "execution_count": 9,
     "metadata": {},
     "output_type": "execute_result"
    }
   ],
   "source": [
    "res.iloc[8].tag_1"
   ]
  },
  {
   "cell_type": "code",
   "execution_count": null,
   "id": "628cc375-2429-46b9-899b-5932104fd908",
   "metadata": {},
   "outputs": [],
   "source": []
  }
 ],
 "metadata": {
  "kernelspec": {
   "display_name": "Python 3 (ipykernel)",
   "language": "python",
   "name": "python3"
  },
  "language_info": {
   "codemirror_mode": {
    "name": "ipython",
    "version": 3
   },
   "file_extension": ".py",
   "mimetype": "text/x-python",
   "name": "python",
   "nbconvert_exporter": "python",
   "pygments_lexer": "ipython3",
   "version": "3.10.9"
  }
 },
 "nbformat": 4,
 "nbformat_minor": 5
}
