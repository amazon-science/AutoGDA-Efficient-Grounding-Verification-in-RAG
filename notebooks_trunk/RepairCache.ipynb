{
 "cells": [
  {
   "cell_type": "markdown",
   "id": "be417dcb-54a9-4c93-b088-c3bbef29c761",
   "metadata": {},
   "source": [
    "## Repair Caches"
   ]
  },
  {
   "cell_type": "code",
   "execution_count": 1,
   "id": "f79d7646-2aae-4196-b194-efe7a2d057c9",
   "metadata": {},
   "outputs": [],
   "source": [
    "## Clear fill in the gaps cache."
   ]
  },
  {
   "cell_type": "code",
   "execution_count": 34,
   "id": "c0ffb88c-6a00-435e-ab86-9b3ac8ebd8c3",
   "metadata": {},
   "outputs": [],
   "source": [
    "%load_ext autoreload\n",
    "%autoreload 2"
   ]
  },
  {
   "cell_type": "code",
   "execution_count": 38,
   "id": "4422e656-eebe-4814-933d-b62e823fce8a",
   "metadata": {},
   "outputs": [
    {
     "name": "stdout",
     "output_type": "stream",
     "text": [
      "src.cross_encoder_model.my_evaluator\n"
     ]
    }
   ],
   "source": [
    "from src.sync_data.mutation_cache import repair_cache"
   ]
  },
  {
   "cell_type": "code",
   "execution_count": 4,
   "id": "a8dae33c-9e7d-4ebe-a2b5-129cc93970f5",
   "metadata": {},
   "outputs": [],
   "source": [
    "def is_float_try(obj):\n",
    "    try:\n",
    "        float(obj)\n",
    "        return True\n",
    "    except ValueError:\n",
    "        return False\n",
    "\n",
    "def is_int_try(obj):\n",
    "    try:\n",
    "        int(obj)\n",
    "        return True\n",
    "    except ValueError:\n",
    "        return False\n",
    "        \n",
    "def is_str(obj):\n",
    "    return isinstance(obj, str)\n",
    "\n",
    "def is_bool_try(obj):\n",
    "    if obj is True or obj is False:\n",
    "        return True\n",
    "    elif obj == \"True\" or obj == \"False\":\n",
    "        return True\n",
    "    else:\n",
    "        return False"
   ]
  },
  {
   "cell_type": "code",
   "execution_count": 39,
   "id": "1d609a38-2215-4748-a573-d79a8a8ab508",
   "metadata": {},
   "outputs": [],
   "source": [
    "import pandas as pd\n",
    "mutation = \"RephraseMutation\"\n",
    "mutation = \"LLMFillInTheGapsMutation\"\n",
    "#mutation = \"DropSentenceMutation\"\n",
    "cache = pd.read_csv(f\"runs/cache/ragtruth-Summary/{mutation}.csv\", on_bad_lines=\"skip\", encoding_errors=\"ignore\") #, on_bad_lines=\"skip\""
   ]
  },
  {
   "cell_type": "code",
   "execution_count": 29,
   "id": "07af0823-9b54-45ac-be10-290e637fdd70",
   "metadata": {},
   "outputs": [
    {
     "data": {
      "text/plain": [
       "857257"
      ]
     },
     "execution_count": 29,
     "metadata": {},
     "output_type": "execute_result"
    }
   ],
   "source": [
    "len(cache)"
   ]
  },
  {
   "cell_type": "code",
   "execution_count": 30,
   "id": "7f4b4a9c-a96a-42a3-8e5e-e2554cf5235d",
   "metadata": {},
   "outputs": [
    {
     "name": "stdout",
     "output_type": "stream",
     "text": [
      "tag_0 object\n",
      "tag_1 object\n",
      "old_claim object\n",
      "new_claim object\n",
      "used object\n",
      "rmiss_tasksource object\n",
      "rmiss_bart-large object\n",
      "rmiss_vectara_v2 object\n"
     ]
    }
   ],
   "source": [
    "from pandas.api.types import is_float_dtype\n",
    "for row in cache.columns:\n",
    "    print(row, cache[row].dtype)"
   ]
  },
  {
   "cell_type": "code",
   "execution_count": 31,
   "id": "94d80672-6fb7-4d44-89ac-aa4c36878564",
   "metadata": {},
   "outputs": [
    {
     "name": "stdout",
     "output_type": "stream",
     "text": [
      "tag_0 object\n",
      "tag_1 object\n",
      "old_claim object\n",
      "new_claim object\n",
      "used object\n",
      "rmiss_tasksource object\n",
      "rmiss_bart-large object\n",
      "rmiss_vectara_v2 object\n"
     ]
    }
   ],
   "source": [
    "from pandas.api.types import is_float_dtype\n",
    "for row in cache.columns:\n",
    "    print(row, cache[row].dtype)"
   ]
  },
  {
   "cell_type": "code",
   "execution_count": 32,
   "id": "f5ad1ce6-a18d-4938-bab7-91eb7a286197",
   "metadata": {},
   "outputs": [
    {
     "name": "stdout",
     "output_type": "stream",
     "text": [
      "tag_0 object\n",
      "tag_1 object\n",
      "old_claim object\n",
      "new_claim object\n",
      "used object\n",
      "rmiss_tasksource object\n",
      "rmiss_bart-large object\n",
      "rmiss_vectara_v2 object\n"
     ]
    }
   ],
   "source": [
    "from pandas.api.types import is_float_dtype\n",
    "for row in cache.columns:\n",
    "    print(row, cache[row].dtype)"
   ]
  },
  {
   "cell_type": "code",
   "execution_count": 40,
   "id": "007eb49b-60bb-4e64-b808-99a52fc668f9",
   "metadata": {},
   "outputs": [],
   "source": [
    "cache_rep = repair_cache(cache)"
   ]
  },
  {
   "cell_type": "code",
   "execution_count": 41,
   "id": "15966053-8d09-4f4f-a55c-143799be40bd",
   "metadata": {},
   "outputs": [
    {
     "name": "stdout",
     "output_type": "stream",
     "text": [
      "tag_0 object\n",
      "tag_1 int64\n",
      "old_claim object\n",
      "new_claim object\n",
      "used bool\n",
      "rmiss_tasksource float64\n",
      "rmiss_bart-large float64\n",
      "rmiss_vectara_v2 float64\n"
     ]
    }
   ],
   "source": [
    "for row in cache_rep.columns:\n",
    "    print(row, cache_rep[row].dtype)"
   ]
  },
  {
   "cell_type": "code",
   "execution_count": 17,
   "id": "742edef3-43f6-4d01-9320-d5bb638a6ef5",
   "metadata": {},
   "outputs": [],
   "source": [
    "cache_rep.to_csv(f\"runs/cache/ragtruth-Summary/{mutation}.csv\", index=False)"
   ]
  },
  {
   "cell_type": "code",
   "execution_count": 23,
   "id": "dc66d490-e728-4146-bc02-4820b36f2a44",
   "metadata": {},
   "outputs": [
    {
     "name": "stdout",
     "output_type": "stream",
     "text": [
      "test\n"
     ]
    }
   ],
   "source": [
    "print(\"test\")"
   ]
  },
  {
   "cell_type": "code",
   "execution_count": null,
   "id": "0d6c9c96-2a57-45e0-ba46-f8fadd8a148d",
   "metadata": {},
   "outputs": [],
   "source": []
  }
 ],
 "metadata": {
  "kernelspec": {
   "display_name": "Python 3 (ipykernel)",
   "language": "python",
   "name": "python3"
  },
  "language_info": {
   "codemirror_mode": {
    "name": "ipython",
    "version": 3
   },
   "file_extension": ".py",
   "mimetype": "text/x-python",
   "name": "python",
   "nbconvert_exporter": "python",
   "pygments_lexer": "ipython3",
   "version": "3.10.9"
  }
 },
 "nbformat": 4,
 "nbformat_minor": 5
}
