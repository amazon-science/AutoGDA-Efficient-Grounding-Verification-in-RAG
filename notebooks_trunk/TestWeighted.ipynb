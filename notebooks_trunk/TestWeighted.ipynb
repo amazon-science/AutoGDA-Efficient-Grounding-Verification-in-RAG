{
 "cells": [
  {
   "cell_type": "markdown",
   "id": "e8441f26-c266-417b-a115-c0f166e76c4c",
   "metadata": {},
   "source": [
    "## Test weighted training"
   ]
  },
  {
   "cell_type": "code",
   "execution_count": 3,
   "id": "9064835e-2b44-462a-8197-01421c5879b7",
   "metadata": {},
   "outputs": [],
   "source": [
    "%load_ext autoreload\n",
    "%autoreload 2"
   ]
  },
  {
   "cell_type": "code",
   "execution_count": 4,
   "id": "099d5e60-e6ab-4763-bf8c-00e9edb67a47",
   "metadata": {},
   "outputs": [],
   "source": [
    "import os\n",
    "os.environ[\"CUDA_VISIBLE_DEVICES\"]=\"2\"\n",
    "os.environ[\"TOKENIZERS_PARALLELISM\"]=\"false\"\n",
    "os.environ[\"AWS_REGION_NAME\"] = 'us-east-1'"
   ]
  },
  {
   "cell_type": "code",
   "execution_count": 5,
   "id": "a2d6f529-93b7-46fe-8c48-5fd0e4282f2d",
   "metadata": {},
   "outputs": [],
   "source": [
    "import torch\n",
    "torch.multiprocessing.set_start_method('spawn')"
   ]
  },
  {
   "cell_type": "code",
   "execution_count": 6,
   "id": "8a598d19-1f22-4f15-9626-9101cecf97c5",
   "metadata": {},
   "outputs": [],
   "source": [
    "## setup a test population\n",
    "from src.utils.script_utils import get_datasets\n",
    "from src.utils.data_utils import perform_query_integration"
   ]
  },
  {
   "cell_type": "code",
   "execution_count": 7,
   "id": "e7527532-9caa-4df6-a8df-da337e5c3eab",
   "metadata": {},
   "outputs": [],
   "source": [
    "import pandas as pd"
   ]
  },
  {
   "cell_type": "code",
   "execution_count": 8,
   "id": "75dc0533-f544-4be9-af97-6501971d5b52",
   "metadata": {},
   "outputs": [
    {
     "name": "stdout",
     "output_type": "stream",
     "text": [
      "891\n",
      "882\n",
      "882\n"
     ]
    }
   ],
   "source": [
    "org_data_train, org_data_test, org_data_val = get_datasets(\"ragtruth\", group=\"QA\")\n",
    "querymode = \"queryonly\"\n",
    "org_data_train.df = perform_query_integration(org_data_train.df, mode=querymode)\n",
    "org_data_test.df = perform_query_integration(org_data_test.df, mode=querymode)"
   ]
  },
  {
   "cell_type": "code",
   "execution_count": 7,
   "id": "1a2c15fd-d275-4442-ac4d-cf0313b71b9c",
   "metadata": {},
   "outputs": [],
   "source": [
    "from torch.utils.data import DataLoader"
   ]
  },
  {
   "cell_type": "code",
   "execution_count": 22,
   "id": "0de5d668-a9b2-473e-9ab8-7bd1520a75f1",
   "metadata": {},
   "outputs": [],
   "source": [
    "run = \"rmiss_eval3_v2_ensemble-mean_ragtruth_QA\"\n",
    "useiter = 0"
   ]
  },
  {
   "cell_type": "code",
   "execution_count": 21,
   "id": "630316c9-979c-4f82-928a-8d500e31eb09",
   "metadata": {},
   "outputs": [],
   "source": [
    "mydf = pd.read_csv(f\"runs/{run}/data_iteration_{useiter}.csv\")"
   ]
  },
  {
   "cell_type": "code",
   "execution_count": 23,
   "id": "cf2e2055-70cd-4a4e-b613-d84efbe2bbe9",
   "metadata": {},
   "outputs": [
    {
     "data": {
      "text/plain": [
       "5024"
      ]
     },
     "execution_count": 23,
     "metadata": {},
     "output_type": "execute_result"
    }
   ],
   "source": [
    "len(mydf)"
   ]
  },
  {
   "cell_type": "code",
   "execution_count": 24,
   "id": "7b39a6ec-8f5b-4c90-99df-30c052675626",
   "metadata": {},
   "outputs": [],
   "source": [
    "from src.utils.script_utils import init_population_from_dump\n",
    "from src.sync_data.evaluators import dataset_from_population"
   ]
  },
  {
   "cell_type": "code",
   "execution_count": 25,
   "id": "360f17f3-1bd4-47b0-b95c-3c615e09621b",
   "metadata": {},
   "outputs": [],
   "source": [
    "dataset = dataset_from_population(init_population_from_dump(mydf))"
   ]
  },
  {
   "cell_type": "code",
   "execution_count": 26,
   "id": "c2312de2-ac6d-42d3-a847-d73edd780dd9",
   "metadata": {},
   "outputs": [
    {
     "data": {
      "text/plain": [
       "<src.utils.data_utils.AnnotatedTextDataset at 0x7f831f9f31c0>"
      ]
     },
     "execution_count": 26,
     "metadata": {},
     "output_type": "execute_result"
    }
   ],
   "source": [
    "dataset"
   ]
  },
  {
   "cell_type": "code",
   "execution_count": 27,
   "id": "1ec961c7-78e1-4ec7-b27a-b35c7c84cf60",
   "metadata": {},
   "outputs": [],
   "source": [
    "from src.sync_data.evaluators import NLIFinetuningEvaluation "
   ]
  },
  {
   "cell_type": "code",
   "execution_count": 28,
   "id": "e9e9dadb-0c9c-4e37-ad07-a76a5ca930f4",
   "metadata": {},
   "outputs": [],
   "source": [
    "myeval = NLIFinetuningEvaluation(org_data_test, \"tasksource\", weighted=True, num_epochs=1, batch_size=2)"
   ]
  },
  {
   "cell_type": "code",
   "execution_count": 29,
   "id": "e575197e-97a0-40fc-a398-619b3f983233",
   "metadata": {},
   "outputs": [
    {
     "name": "stdout",
     "output_type": "stream",
     "text": [
      "init trainer.\n"
     ]
    },
    {
     "name": "stderr",
     "output_type": "stream",
     "text": [
      "Asking to truncate to max_length but no maximum length is provided and the model has no predefined maximum length. Default to no truncation.\n"
     ]
    },
    {
     "data": {
      "text/html": [
       "\n",
       "    <div>\n",
       "      \n",
       "      <progress value='14' max='2512' style='width:300px; height:20px; vertical-align: middle;'></progress>\n",
       "      [  14/2512 00:02 < 07:17, 5.71 it/s, Epoch 0.01/1]\n",
       "    </div>\n",
       "    <table border=\"1\" class=\"dataframe\">\n",
       "  <thead>\n",
       " <tr style=\"text-align: left;\">\n",
       "      <th>Step</th>\n",
       "      <th>Training Loss</th>\n",
       "    </tr>\n",
       "  </thead>\n",
       "  <tbody>\n",
       "  </tbody>\n",
       "</table><p>"
      ],
      "text/plain": [
       "<IPython.core.display.HTML object>"
      ]
     },
     "metadata": {},
     "output_type": "display_data"
    },
    {
     "ename": "KeyboardInterrupt",
     "evalue": "",
     "output_type": "error",
     "traceback": [
      "\u001b[0;31m---------------------------------------------------------------------------\u001b[0m",
      "\u001b[0;31mKeyboardInterrupt\u001b[0m                         Traceback (most recent call last)",
      "Cell \u001b[0;32mIn[29], line 1\u001b[0m\n\u001b[0;32m----> 1\u001b[0m \u001b[43mmyeval\u001b[49m\u001b[43m(\u001b[49m\u001b[43minit_population_from_dump\u001b[49m\u001b[43m(\u001b[49m\u001b[43mmydf\u001b[49m\u001b[43m)\u001b[49m\u001b[43m,\u001b[49m\u001b[43m \u001b[49m\u001b[38;5;28;43;01mNone\u001b[39;49;00m\u001b[43m)\u001b[49m\n",
      "File \u001b[0;32m~/DomainAdaptationForFactualConsistencyDetection/src/sync_data/evaluators.py:592\u001b[0m, in \u001b[0;36mNLIFinetuningEvaluation.__call__\u001b[0;34m(self, source_population, target_population)\u001b[0m\n\u001b[1;32m    590\u001b[0m     res \u001b[38;5;241m=\u001b[39m \u001b[38;5;28mself\u001b[39m\u001b[38;5;241m.\u001b[39m_eval_entailment_model(source_population)\n\u001b[1;32m    591\u001b[0m \u001b[38;5;28;01melse\u001b[39;00m:\n\u001b[0;32m--> 592\u001b[0m     res \u001b[38;5;241m=\u001b[39m \u001b[38;5;28;43mself\u001b[39;49m\u001b[38;5;241;43m.\u001b[39;49m\u001b[43mrefit_and_eval\u001b[49m\u001b[43m(\u001b[49m\u001b[43msource_population\u001b[49m\u001b[43m,\u001b[49m\u001b[43m \u001b[49m\u001b[38;5;28;43mself\u001b[39;49m\u001b[38;5;241;43m.\u001b[39;49m\u001b[43mnum_epochs\u001b[49m\u001b[43m)\u001b[49m\n\u001b[1;32m    593\u001b[0m \u001b[38;5;28;01mif\u001b[39;00m \u001b[38;5;28mself\u001b[39m\u001b[38;5;241m.\u001b[39mrenew_model:\n\u001b[1;32m    594\u001b[0m     \u001b[38;5;28mself\u001b[39m\u001b[38;5;241m.\u001b[39mmodel, \u001b[38;5;28mself\u001b[39m\u001b[38;5;241m.\u001b[39mtokenizer \u001b[38;5;241m=\u001b[39m \u001b[38;5;28;01mNone\u001b[39;00m, \u001b[38;5;28;01mNone\u001b[39;00m \u001b[38;5;66;03m## Free memory by deleting model\u001b[39;00m\n",
      "File \u001b[0;32m~/DomainAdaptationForFactualConsistencyDetection/src/sync_data/evaluators.py:581\u001b[0m, in \u001b[0;36mNLIFinetuningEvaluation.refit_and_eval\u001b[0;34m(self, source_population, num_epochs)\u001b[0m\n\u001b[1;32m    571\u001b[0m     trainer \u001b[38;5;241m=\u001b[39m TrainerWithWeightedCELoss(\n\u001b[1;32m    572\u001b[0m         model\u001b[38;5;241m=\u001b[39mmodel_train,\n\u001b[1;32m    573\u001b[0m         args\u001b[38;5;241m=\u001b[39mtraining_args,\n\u001b[0;32m   (...)\u001b[0m\n\u001b[1;32m    578\u001b[0m         tokenizer\u001b[38;5;241m=\u001b[39m\u001b[38;5;28mself\u001b[39m\u001b[38;5;241m.\u001b[39mtokenizer\n\u001b[1;32m    579\u001b[0m     )\n\u001b[1;32m    580\u001b[0m     trainer\u001b[38;5;241m.\u001b[39mset_weighted(\u001b[38;5;28mself\u001b[39m\u001b[38;5;241m.\u001b[39mweighted)\n\u001b[0;32m--> 581\u001b[0m     \u001b[43mtrainer\u001b[49m\u001b[38;5;241;43m.\u001b[39;49m\u001b[43mtrain\u001b[49m\u001b[43m(\u001b[49m\u001b[43m)\u001b[49m\n\u001b[1;32m    583\u001b[0m \u001b[38;5;28;01mreturn\u001b[39;00m test_evaluator(\u001b[38;5;28mself\u001b[39m\u001b[38;5;241m.\u001b[39mmodel, output_path\u001b[38;5;241m=\u001b[39m\u001b[38;5;28;01mNone\u001b[39;00m, return_dict\u001b[38;5;241m=\u001b[39m\u001b[38;5;28;01mTrue\u001b[39;00m)\n",
      "File \u001b[0;32m~/DomainAdaptationForFactualConsistencyDetection/SyntheticData/lib/python3.10/site-packages/transformers/trainer.py:1885\u001b[0m, in \u001b[0;36mTrainer.train\u001b[0;34m(self, resume_from_checkpoint, trial, ignore_keys_for_eval, **kwargs)\u001b[0m\n\u001b[1;32m   1883\u001b[0m         hf_hub_utils\u001b[38;5;241m.\u001b[39menable_progress_bars()\n\u001b[1;32m   1884\u001b[0m \u001b[38;5;28;01melse\u001b[39;00m:\n\u001b[0;32m-> 1885\u001b[0m     \u001b[38;5;28;01mreturn\u001b[39;00m \u001b[43minner_training_loop\u001b[49m\u001b[43m(\u001b[49m\n\u001b[1;32m   1886\u001b[0m \u001b[43m        \u001b[49m\u001b[43margs\u001b[49m\u001b[38;5;241;43m=\u001b[39;49m\u001b[43margs\u001b[49m\u001b[43m,\u001b[49m\n\u001b[1;32m   1887\u001b[0m \u001b[43m        \u001b[49m\u001b[43mresume_from_checkpoint\u001b[49m\u001b[38;5;241;43m=\u001b[39;49m\u001b[43mresume_from_checkpoint\u001b[49m\u001b[43m,\u001b[49m\n\u001b[1;32m   1888\u001b[0m \u001b[43m        \u001b[49m\u001b[43mtrial\u001b[49m\u001b[38;5;241;43m=\u001b[39;49m\u001b[43mtrial\u001b[49m\u001b[43m,\u001b[49m\n\u001b[1;32m   1889\u001b[0m \u001b[43m        \u001b[49m\u001b[43mignore_keys_for_eval\u001b[49m\u001b[38;5;241;43m=\u001b[39;49m\u001b[43mignore_keys_for_eval\u001b[49m\u001b[43m,\u001b[49m\n\u001b[1;32m   1890\u001b[0m \u001b[43m    \u001b[49m\u001b[43m)\u001b[49m\n",
      "File \u001b[0;32m~/DomainAdaptationForFactualConsistencyDetection/SyntheticData/lib/python3.10/site-packages/transformers/trainer.py:2221\u001b[0m, in \u001b[0;36mTrainer._inner_training_loop\u001b[0;34m(self, batch_size, args, resume_from_checkpoint, trial, ignore_keys_for_eval)\u001b[0m\n\u001b[1;32m   2215\u001b[0m \u001b[38;5;28;01mwith\u001b[39;00m \u001b[38;5;28mself\u001b[39m\u001b[38;5;241m.\u001b[39maccelerator\u001b[38;5;241m.\u001b[39maccumulate(model):\n\u001b[1;32m   2216\u001b[0m     tr_loss_step \u001b[38;5;241m=\u001b[39m \u001b[38;5;28mself\u001b[39m\u001b[38;5;241m.\u001b[39mtraining_step(model, inputs)\n\u001b[1;32m   2218\u001b[0m \u001b[38;5;28;01mif\u001b[39;00m (\n\u001b[1;32m   2219\u001b[0m     args\u001b[38;5;241m.\u001b[39mlogging_nan_inf_filter\n\u001b[1;32m   2220\u001b[0m     \u001b[38;5;129;01mand\u001b[39;00m \u001b[38;5;129;01mnot\u001b[39;00m is_torch_xla_available()\n\u001b[0;32m-> 2221\u001b[0m     \u001b[38;5;129;01mand\u001b[39;00m (torch\u001b[38;5;241m.\u001b[39misnan(tr_loss_step) \u001b[38;5;129;01mor\u001b[39;00m \u001b[43mtorch\u001b[49m\u001b[38;5;241;43m.\u001b[39;49m\u001b[43misinf\u001b[49m\u001b[43m(\u001b[49m\u001b[43mtr_loss_step\u001b[49m\u001b[43m)\u001b[49m)\n\u001b[1;32m   2222\u001b[0m ):\n\u001b[1;32m   2223\u001b[0m     \u001b[38;5;66;03m# if loss is nan or inf simply add the average of previous logged losses\u001b[39;00m\n\u001b[1;32m   2224\u001b[0m     tr_loss \u001b[38;5;241m+\u001b[39m\u001b[38;5;241m=\u001b[39m tr_loss \u001b[38;5;241m/\u001b[39m (\u001b[38;5;241m1\u001b[39m \u001b[38;5;241m+\u001b[39m \u001b[38;5;28mself\u001b[39m\u001b[38;5;241m.\u001b[39mstate\u001b[38;5;241m.\u001b[39mglobal_step \u001b[38;5;241m-\u001b[39m \u001b[38;5;28mself\u001b[39m\u001b[38;5;241m.\u001b[39m_globalstep_last_logged)\n\u001b[1;32m   2225\u001b[0m \u001b[38;5;28;01melse\u001b[39;00m:\n",
      "\u001b[0;31mKeyboardInterrupt\u001b[0m: "
     ]
    }
   ],
   "source": [
    "myeval(init_population_from_dump(mydf), None)"
   ]
  },
  {
   "cell_type": "code",
   "execution_count": 19,
   "id": "d3e995c6-1d1f-4921-8da8-769614fd8fbc",
   "metadata": {},
   "outputs": [
    {
     "data": {
      "text/plain": [
       "<matplotlib.legend.Legend at 0x7fa371783370>"
      ]
     },
     "execution_count": 19,
     "metadata": {},
     "output_type": "execute_result"
    },
    {
     "data": {
      "image/png": "[encoded data removed]",
      "text/plain": [
       "<Figure size 640x480 with 1 Axes>"
      ]
     },
     "metadata": {},
     "output_type": "display_data"
    }
   ],
   "source": [
    "## Val performance weighted vs unweighed.\n",
    "import json\n",
    "import matplotlib.pyplot as plt\n",
    "import numpy as np\n",
    "for model, clr in zip([\"ensemble-mean\", \"tasksource\"], [\"tab:blue\", \"tab:red\", \"tab:green\"]):\n",
    "    unweighted1 = json.load(open(f\"runs/rmiss_eval3_v2_{model}_ragtruth_QA/eval_out_list.json\"))\n",
    "    weighted1 = json.load(open(f\"runs/rmiss_eval3_v2_{model}_ragtruth_QA/eval_out_weighted_list.json\"))\n",
    "    iters = np.array([1, 2])\n",
    "    \n",
    "    unweighted2 = json.load(open(f\"runs/rmiss_eval3_v3_{model}_ragtruth_QA/eval_out_list.json\"))\n",
    "    weighted2 = json.load(open(f\"runs/rmiss_eval3_v3_{model}_ragtruth_QA/eval_out_weighted_list.json\"))\n",
    "    iters = np.array([1, 2])\n",
    "    plt.plot(iters, [0.5*(weighted1[str(idx)][\"roc\"]+weighted2[str(idx)][\"roc\"]) for idx in iters], \"--s\", c=clr, label=f\"{model}-weighted\")\n",
    "    plt.plot(iters, [0.5*(unweighted1[str(idx)][\"tasksource\"][\"roc\"]+unweighted2[str(idx)][\"tasksource\"][\"roc\"]) for idx in iters], \"-s\", c=clr, label=f\"{model}-nonweighted\")\n",
    "plt.xlabel(\")\n",
    "plt.legend()"
   ]
  },
  {
   "cell_type": "code",
   "execution_count": 1,
   "id": "7efc2b6f-6b7e-452f-bcf0-36a4e7de7549",
   "metadata": {},
   "outputs": [
    {
     "name": "stdout",
     "output_type": "stream",
     "text": [
      "src.cross_encoder_model.my_evaluator\n"
     ]
    }
   ],
   "source": [
    "from src.sync_data.initial_generators import FromFile"
   ]
  },
  {
   "cell_type": "code",
   "execution_count": 14,
   "id": "c45203e9-9f2d-45c7-b6cc-fa49dce04af8",
   "metadata": {},
   "outputs": [],
   "source": [
    "mygen = FromFile(select_max_cert=False)"
   ]
  },
  {
   "cell_type": "code",
   "execution_count": 15,
   "id": "c922f55b-fffd-4fe6-a3fb-4eb0c482850b",
   "metadata": {},
   "outputs": [
    {
     "name": "stdout",
     "output_type": "stream",
     "text": [
      "629\n"
     ]
    }
   ],
   "source": [
    "res = mygen.generate_samples(org_data_train, 4)"
   ]
  },
  {
   "cell_type": "code",
   "execution_count": 16,
   "id": "e3ae25cc-0663-4b2a-a324-455923c1fe75",
   "metadata": {},
   "outputs": [
    {
     "data": {
      "text/plain": [
       "5032"
      ]
     },
     "execution_count": 16,
     "metadata": {},
     "output_type": "execute_result"
    }
   ],
   "source": [
    "len(res)"
   ]
  },
  {
   "cell_type": "code",
   "execution_count": 17,
   "id": "8675c474-9266-4d41-b99c-97dcc663aab7",
   "metadata": {},
   "outputs": [],
   "source": [
    "tag_list = list(res.tags)"
   ]
  },
  {
   "cell_type": "code",
   "execution_count": 18,
   "id": "1a85c4b4-8d6d-4d6d-8aa9-de14dece0a19",
   "metadata": {},
   "outputs": [
    {
     "data": {
      "text/plain": [
       "array([0.93665904, 0.6143679 , 0.9550464 , 0.92129517])"
      ]
     },
     "execution_count": 18,
     "metadata": {},
     "output_type": "execute_result"
    }
   ],
   "source": [
    "res.get_initial_prob(tag_list[1])"
   ]
  },
  {
   "cell_type": "code",
   "execution_count": 13,
   "id": "0e66ae33-aade-4e30-a721-e1bf5fe9c5c2",
   "metadata": {},
   "outputs": [
    {
     "data": {
      "text/plain": [
       "array([0.9883592 , 0.98628414, 0.98364073, 0.9829852 ])"
      ]
     },
     "execution_count": 13,
     "metadata": {},
     "output_type": "execute_result"
    }
   ],
   "source": [
    "res.get_initial_prob(tag_list[1])"
   ]
  },
  {
   "cell_type": "code",
   "execution_count": 28,
   "id": "3139c737-0dba-4570-bd74-54e703d605ae",
   "metadata": {},
   "outputs": [],
   "source": [
    "from sentence_transformers import CrossEncoder\n",
    "from src.cross_encoder_model.model_wrappers import OneWayCrossEncoder"
   ]
  },
  {
   "cell_type": "code",
   "execution_count": 29,
   "id": "6a3f955e-cd35-49a5-a655-c2306ea2740d",
   "metadata": {},
   "outputs": [],
   "source": [
    "model = OneWayCrossEncoder(\n",
    "    'cross-encoder/nli-deberta-v3-base',\n",
    "    num_labels=3,\n",
    "    device=\"cuda\",\n",
    "    automodel_args={\"ignore_mismatched_sizes\": True},\n",
    ")"
   ]
  },
  {
   "cell_type": "code",
   "execution_count": null,
   "id": "a24e512d-842f-4e26-ad0e-375117e23556",
   "metadata": {},
   "outputs": [],
   "source": []
  }
 ],
 "metadata": {
  "kernelspec": {
   "display_name": "Python 3 (ipykernel)",
   "language": "python",
   "name": "python3"
  },
  "language_info": {
   "codemirror_mode": {
    "name": "ipython",
    "version": 3
   },
   "file_extension": ".py",
   "mimetype": "text/x-python",
   "name": "python",
   "nbconvert_exporter": "python",
   "pygments_lexer": "ipython3",
   "version": "3.10.9"
  }
 },
 "nbformat": 4,
 "nbformat_minor": 5
}
