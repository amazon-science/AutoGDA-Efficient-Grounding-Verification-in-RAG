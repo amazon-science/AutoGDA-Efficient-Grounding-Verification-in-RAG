{
 "cells": [
  {
   "cell_type": "markdown",
   "id": "a9f9622f-2b2f-4768-9fba-0aa68e6f9bb1",
   "metadata": {},
   "source": [
    "## Revisiting Data Selection: How much and what data is most beneficial?"
   ]
  },
  {
   "cell_type": "code",
   "execution_count": 4,
   "id": "45014efd-0049-4580-b2cd-b60cc7874a48",
   "metadata": {},
   "outputs": [],
   "source": [
    "import os\n",
    "os.environ[\"CUDA_VISIBLE_DEVICES\"]=\"1\""
   ]
  },
  {
   "cell_type": "code",
   "execution_count": 5,
   "id": "2e1b0802-ad98-4732-a550-d3d95761a9c9",
   "metadata": {},
   "outputs": [],
   "source": [
    "import os\n",
    "os.chdir(\"../\")"
   ]
  },
  {
   "cell_type": "code",
   "execution_count": 6,
   "id": "0513cbba-2e72-4928-8906-a3797481a494",
   "metadata": {},
   "outputs": [],
   "source": [
    "%load_ext autoreload\n",
    "%autoreload 2"
   ]
  },
  {
   "cell_type": "markdown",
   "id": "57c8a829-8d98-4b52-b5d5-5efcd820a3b8",
   "metadata": {},
   "source": [
    "We have a large population of synthetic data. How much and which data is most beneficial?"
   ]
  },
  {
   "cell_type": "code",
   "execution_count": 4,
   "id": "36873d6d-d99f-41b8-b21e-2b17fff8dc45",
   "metadata": {},
   "outputs": [],
   "source": [
    "from src.sync_data.population import Population\n",
    "import numpy as np\n",
    "import pandas as pd\n",
    "def init_population_from_dump(df, labeled=True, use_evidence=None):\n",
    "    \"\"\" Initialize the population with the correct scores. \"\"\"\n",
    "    mypopulation = Population()\n",
    "    if use_evidence is None:\n",
    "        evidence_items = df[\"tag_0\"].unique()\n",
    "    else:\n",
    "        evidence_items = use_evidence\n",
    "\n",
    "    for evidence in evidence_items:\n",
    "        if labeled:\n",
    "            for label in [0, 1]:\n",
    "                index = (df[\"tag_0\"] == evidence) & (df[\"tag_1\"] == label)\n",
    "                use_claims = df[index][\"sample\"].values\n",
    "                p_init = df[index][\"p_init\"].values\n",
    "                p_agree = df[index][\"p_agree\"].values\n",
    "                if label == 1:\n",
    "                    p_init[p_init < 0.5] = 0.5\n",
    "                else:\n",
    "                    p_init[p_init > 0.5] = 0.5\n",
    "                mypopulation[(evidence, label)] = use_claims, np.zeros(len(use_claims)), p_agree, p_init\n",
    "        else:\n",
    "            index = (df[\"evidence\"] == evidence)\n",
    "            mypopulation[evidence] = df[index][\"claim\"].values\n",
    "    return mypopulation"
   ]
  },
  {
   "cell_type": "code",
   "execution_count": 5,
   "id": "c5861019-99bf-4416-a93c-e9fa63d345e8",
   "metadata": {},
   "outputs": [],
   "source": [
    "from src.scripts.script_utils import get_datasets\n",
    "from src.utils.data_utils import perform_query_integration\n"
   ]
  },
  {
   "cell_type": "code",
   "execution_count": 6,
   "id": "693e854e-44ed-4bb6-822e-9aba2574eb6e",
   "metadata": {},
   "outputs": [],
   "source": [
    "run = \"c_opt_indep_ragtqa_nosel2\""
   ]
  },
  {
   "cell_type": "code",
   "execution_count": 7,
   "id": "c867cae9-cd7f-4b9f-9ee7-769ab4392c48",
   "metadata": {},
   "outputs": [
    {
     "name": "stdout",
     "output_type": "stream",
     "text": [
      "Local files for RAGTruth not found. Falling back to S3...\n",
      "891\n",
      "Local files for RAGTruth not found. Falling back to S3...\n",
      "882\n"
     ]
    }
   ],
   "source": [
    "org_data_train, org_data_test = get_datasets(\"ragtruth\", group=\"QA\")\n",
    "querymode = \"queryonly\"\n",
    "synth_data_train = pd.read_csv(f\"runs/{run}/data_iteration_0_noselect.csv\")\n",
    "data_population = init_population_from_dump(synth_data_train)\n",
    "org_data_train.df = perform_query_integration(org_data_train.df, mode=querymode)\n",
    "org_data_test.df = perform_query_integration(org_data_test.df, mode=querymode)"
   ]
  },
  {
   "cell_type": "code",
   "execution_count": 8,
   "id": "68d0ab4e-1643-4ead-b950-44f085761e0f",
   "metadata": {},
   "outputs": [],
   "source": [
    "list_evidence = synth_data_train.tag_0.unique()"
   ]
  },
  {
   "cell_type": "code",
   "execution_count": 9,
   "id": "2b0b850e-016b-43bd-b78c-d018f47d80a4",
   "metadata": {},
   "outputs": [],
   "source": [
    "from src.scripts.script_utils import init_population_from_df"
   ]
  },
  {
   "cell_type": "code",
   "execution_count": 10,
   "id": "1b82324a-32f8-42f0-be64-0c46c82d67bf",
   "metadata": {},
   "outputs": [
    {
     "name": "stdout",
     "output_type": "stream",
     "text": [
      "src.cross_encoder_model.my_evaluator\n"
     ]
    }
   ],
   "source": [
    "from src.sync_data.evaluators import PopulationWithEmbeddings"
   ]
  },
  {
   "cell_type": "code",
   "execution_count": 11,
   "id": "04d51848-22bd-4410-a68a-6b81e7b8ef3a",
   "metadata": {},
   "outputs": [
    {
     "name": "stdout",
     "output_type": "stream",
     "text": [
      "838\n"
     ]
    },
    {
     "name": "stderr",
     "output_type": "stream",
     "text": [
      "/home/ubuntu/DomainAdaptationForFactualConsistencyDetection/SyntheticData/lib/python3.10/site-packages/huggingface_hub/file_download.py:1132: FutureWarning: `resume_download` is deprecated and will be removed in version 1.0.0. Downloads always resume when possible. If you want to force a new download, use `force_download=True`.\n",
      "  warnings.warn(\n",
      "100%|█████████████████████████████████████████████████████████████████████████████████████████████████████████████| 838/838 [00:20<00:00, 40.33it/s]\n"
     ]
    }
   ],
   "source": [
    "pop_target = PopulationWithEmbeddings(init_population_from_df(org_data_train.df, labeled=False, use_evidence=list_evidence))"
   ]
  },
  {
   "cell_type": "code",
   "execution_count": 12,
   "id": "aa77b517-d2ec-43e1-a790-6e8db8232a4c",
   "metadata": {},
   "outputs": [
    {
     "data": {
      "text/plain": [
       "46928"
      ]
     },
     "execution_count": 12,
     "metadata": {},
     "output_type": "execute_result"
    }
   ],
   "source": [
    "len(synth_data_train)"
   ]
  },
  {
   "cell_type": "code",
   "execution_count": 13,
   "id": "c4d52b85-574c-46de-8dca-8e53f9b1ea60",
   "metadata": {},
   "outputs": [
    {
     "data": {
      "text/plain": [
       "4891"
      ]
     },
     "execution_count": 13,
     "metadata": {},
     "output_type": "execute_result"
    }
   ],
   "source": [
    "len(pop_target)"
   ]
  },
  {
   "cell_type": "code",
   "execution_count": 14,
   "id": "4cc84d50-2c9e-45be-a2dd-62cf85ff8faa",
   "metadata": {},
   "outputs": [
    {
     "name": "stderr",
     "output_type": "stream",
     "text": [
      "100%|███████████████████████████████████████████████████████████████████████████████████████████████████████████| 1676/1676 [02:03<00:00, 13.58it/s]\n"
     ]
    }
   ],
   "source": [
    "data_population = PopulationWithEmbeddings(data_population)"
   ]
  },
  {
   "cell_type": "code",
   "execution_count": 15,
   "id": "349de2c0-f928-450c-9af0-b2b7609ab6e4",
   "metadata": {},
   "outputs": [],
   "source": [
    "from src.sync_data.combinatorial_optimization import SGDOptimizationSelector, IndependentSelector"
   ]
  },
  {
   "cell_type": "code",
   "execution_count": 16,
   "id": "efa1b534-86db-481f-a161-1faecf235563",
   "metadata": {},
   "outputs": [],
   "source": [
    "myselector = IndependentSelector(pop_target, target_radius=0.2, source_radius=0.16, label_cert_weight=20.0)"
   ]
  },
  {
   "cell_type": "code",
   "execution_count": 17,
   "id": "9aa6383d-5166-4645-bade-583008d2c668",
   "metadata": {},
   "outputs": [],
   "source": [
    "from src.sync_data.evaluators import NLIFinetuningEvaluation\n",
    "eval_models = [\"tasksource_v1\"]\n",
    "evaluators_other ={}\n",
    "for model_str in eval_models:\n",
    "    evaluators_other[model_str] = NLIFinetuningEvaluation(org_data_test, target_model_str=model_str,\n",
    "                                                             num_epochs=1, device=\"cuda\", batch_size=2)"
   ]
  },
  {
   "cell_type": "code",
   "execution_count": 18,
   "id": "52082168-307a-4eaa-9253-5931f00722b5",
   "metadata": {},
   "outputs": [],
   "source": [
    "def run_evaluators(eval_list: dict, current_w_embed: Population):\n",
    "    \"\"\" Perform evaluation for multiple evaluators. \"\"\"\n",
    "    res = {}\n",
    "    for key, eval_obj in eval_list.items():\n",
    "        res[key] = eval_obj(current_w_embed, None)\n",
    "        print(f\"Eval result on {key}\")\n",
    "        print(res[key])\n",
    "    return res"
   ]
  },
  {
   "cell_type": "code",
   "execution_count": 24,
   "id": "ec87d100-e108-411c-b6d8-cbc55f03af9c",
   "metadata": {},
   "outputs": [],
   "source": [
    "k=0.02"
   ]
  },
  {
   "cell_type": "code",
   "execution_count": 25,
   "id": "d25dc1dc-bbb5-44ed-88f2-daf0c6d5b5a0",
   "metadata": {},
   "outputs": [
    {
     "name": "stdout",
     "output_type": "stream",
     "text": [
      "computing penalties.\n"
     ]
    }
   ],
   "source": [
    "print(\"computing penalties.\")\n",
    "penalty_dict = {}\n",
    "for t in data_population.tags:\n",
    "    penalty_dict[t] = myselector._compute_sample_penalties(data_population, t)"
   ]
  },
  {
   "cell_type": "code",
   "execution_count": null,
   "id": "4af9ab62-9dc9-4cd0-95ae-bcec69553d99",
   "metadata": {},
   "outputs": [],
   "source": [
    "import torch\n",
    "print(f\"Selecting {k} ...\")\n",
    "n_total = int(k * len(penalty_dict))\n",
    "## stratified\n",
    "res_selection = {key: -penalty_dict[key].numpy() for key in penalty_dict}\n",
    "if k < 1.0:\n",
    "    val_list, idx_list, labels = [], [], []\n",
    "    for key in penalty_dict:\n",
    "        val, idx = torch.min(penalty_dict[key], dim=-1)\n",
    "        val_list.append(val)\n",
    "        idx_list.append(idx)\n",
    "        labels.append(key[1])\n",
    "    selected_batches0 = torch.argsort(torch.stack([val for val, lab in zip(val_list, labels) if lab==0]))[:n_total].numpy()\n",
    "    selected_batches1 = torch.argsort(torch.stack([val for val, lab in zip(val_list, labels) if lab==1]))[:n_total].numpy()\n",
    "    print(selected_batches0)\n",
    "    arr_list = []\n",
    "    l0cnt, l1cnt = 0, 0\n",
    "    for key in penalty_dict:\n",
    "        res_all = torch.zeros(len(penalty_dict[key]))\n",
    "        if key[1] == 0 and l0cnt in selected_batches0:\n",
    "            res_all[idx_list[l0cnt]] = 1\n",
    "        if key[1] == 1 and l1cnt in selected_batches1:\n",
    "            res_all[idx_list[l1cnt]] = 1\n",
    "        if key[1] == 0:\n",
    "            l0cnt += 1\n",
    "        else:\n",
    "            l1cnt += 1\n",
    "        arr_list.append(res_all)\n",
    "    use_idx = torch.cat(arr_list)\n",
    "    print(use_idx.shape, torch.sum(use_idx))\n",
    "    res_selection_dict = create_overall_topk_selection_dict(data_population, use_idx)\n",
    "    current_w_embed = data_population.get_indexed_subpopulation(res_selection_dict)\n",
    "    print(current_w_embed.to_dataframe()[\"tag_1\"].mean())\n",
    "else:\n",
    "    res_selection_dict = create_topk_selection_dict(data_population, res_selection, k)\n",
    "    current_w_embed = data_population.get_indexed_subpopulation(res_selection_dict)\n",
    "\n",
    "print(\"size strat\", len(current_w_embed))\n",
    "eval_out_strat[k] = run_evaluators(evaluators_other, current_w_embed)\n",
    "#json.dump(eval_out_strat, open(f\"runs/{run}/eval_select_strat{lrlog}.json\", \"w\"))"
   ]
  },
  {
   "cell_type": "markdown",
   "id": "abf5cc12-e3cd-4055-af93-bad9a2261c2d",
   "metadata": {},
   "source": [
    "## First try stratified vs non-stratified selection"
   ]
  },
  {
   "cell_type": "code",
   "execution_count": 2,
   "id": "4d517a10-7c88-4524-a0bd-540fe369921e",
   "metadata": {},
   "outputs": [
    {
     "ename": "NameError",
     "evalue": "name 'data_population' is not defined",
     "output_type": "error",
     "traceback": [
      "\u001B[0;31m---------------------------------------------------------------------------\u001B[0m",
      "\u001B[0;31mNameError\u001B[0m                                 Traceback (most recent call last)",
      "Cell \u001B[0;32mIn[2], line 2\u001B[0m\n\u001B[1;32m      1\u001B[0m penalty_dict \u001B[38;5;241m=\u001B[39m {}\n\u001B[0;32m----> 2\u001B[0m \u001B[38;5;28;01mfor\u001B[39;00m t \u001B[38;5;129;01min\u001B[39;00m \u001B[43mdata_population\u001B[49m\u001B[38;5;241m.\u001B[39mtags:\n\u001B[1;32m      3\u001B[0m     penalty_dict[t] \u001B[38;5;241m=\u001B[39m myselector\u001B[38;5;241m.\u001B[39m_compute_sample_penalties(data_population, t)\n",
      "\u001B[0;31mNameError\u001B[0m: name 'data_population' is not defined"
     ]
    }
   ],
   "source": [
    "penalty_dict = {}\n",
    "for t in data_population.tags:\n",
    "    penalty_dict[t] = myselector._compute_sample_penalties(data_population, t)"
   ]
  },
  {
   "cell_type": "code",
   "execution_count": 3,
   "id": "caac2b75-6d53-4bba-a8b3-b74e5d2da5a6",
   "metadata": {},
   "outputs": [
    {
     "data": {
      "text/plain": [
       "0"
      ]
     },
     "execution_count": 3,
     "metadata": {},
     "output_type": "execute_result"
    }
   ],
   "source": [
    "len(penalty_dict)"
   ]
  },
  {
   "cell_type": "code",
   "execution_count": 89,
   "id": "b871cfb5-f25d-4dcb-9b1d-669bc01f8c7f",
   "metadata": {},
   "outputs": [],
   "source": [
    "def create_topk_selection_dict(popu, res_select, n_select=16):\n",
    "    selection_dict = {}\n",
    "    for t in popu.tags:\n",
    "        selection_dict[t] = np.argsort(-res_select[t])[:n_select]\n",
    "    return selection_dict"
   ]
  },
  {
   "cell_type": "code",
   "execution_count": 22,
   "id": "aa497dc3-1e40-4df9-b11a-563e01c59ff4",
   "metadata": {},
   "outputs": [],
   "source": [
    "def create_overall_topk_selection_dict(popu, use_idx):\n",
    "    selection_dict = {}\n",
    "    idx = 0\n",
    "    for t in popu.tags:\n",
    "        sz = len(popu[t])\n",
    "        if len(use_idx[idx:idx+sz].nonzero().flatten().numpy()) > 0:\n",
    "            selection_dict[t] = use_idx[idx:idx+sz].nonzero().flatten().numpy()\n",
    "        idx+=sz\n",
    "    return selection_dict\n"
   ]
  },
  {
   "cell_type": "code",
   "execution_count": 31,
   "id": "8ef6fca8-f1d7-46cb-947e-ece5a043a2ec",
   "metadata": {},
   "outputs": [
    {
     "data": {
      "text/plain": [
       "tensor([], dtype=torch.int64)"
      ]
     },
     "execution_count": 31,
     "metadata": {},
     "output_type": "execute_result"
    }
   ],
   "source": [
    "use_idx[10:20].nonzero().flatten()"
   ]
  },
  {
   "cell_type": "code",
   "execution_count": 91,
   "id": "4a805240-9e85-4164-ac6f-997b86357eae",
   "metadata": {},
   "outputs": [],
   "source": [
    "def create_overall_topk_selection_dict(popu, use_idx):\n",
    "    selection_dict = {}\n",
    "    idx = 0\n",
    "    for t in popu.tags:\n",
    "        sz = len(popu[t])\n",
    "        selection_dict[t] = use_idx[idx:idx+sz].nonzero().flatten().numpy()\n",
    "        idx+=sz\n",
    "    return selection_dict"
   ]
  },
  {
   "cell_type": "code",
   "execution_count": 92,
   "id": "b227f52f-af50-4853-b49c-f19f6e6d85f5",
   "metadata": {},
   "outputs": [],
   "source": [
    "num_select = np.arange(12)*5+1"
   ]
  },
  {
   "cell_type": "code",
   "execution_count": 7,
   "id": "d2830515-766f-4235-86c3-3834dccbb728",
   "metadata": {},
   "outputs": [
    {
     "ename": "NameError",
     "evalue": "name 'num_select' is not defined",
     "output_type": "error",
     "traceback": [
      "\u001B[0;31m---------------------------------------------------------------------------\u001B[0m",
      "\u001B[0;31mNameError\u001B[0m                                 Traceback (most recent call last)",
      "Cell \u001B[0;32mIn[7], line 4\u001B[0m\n\u001B[1;32m      2\u001B[0m eval_out_nonstrat \u001B[38;5;241m=\u001B[39m {}\n\u001B[1;32m      3\u001B[0m \u001B[38;5;28;01mimport\u001B[39;00m \u001B[38;5;21;01mtorch\u001B[39;00m\n\u001B[0;32m----> 4\u001B[0m \u001B[38;5;28;01mfor\u001B[39;00m k \u001B[38;5;129;01min\u001B[39;00m \u001B[43mnum_select\u001B[49m:\n\u001B[1;32m      5\u001B[0m     \u001B[38;5;28mprint\u001B[39m(k)\n\u001B[1;32m      6\u001B[0m     \u001B[38;5;66;03m## stratified\u001B[39;00m\n",
      "\u001B[0;31mNameError\u001B[0m: name 'num_select' is not defined"
     ]
    }
   ],
   "source": [
    "eval_out_strat = {}\n",
    "eval_out_nonstrat = {}\n",
    "import torch\n",
    "for k in num_select:\n",
    "    print(k)\n",
    "    ## stratified\n",
    "    res_selection = {key: -penalty_dict[key].numpy() for key in penalty_dict}\n",
    "    res_selection_dict = create_topk_selection_dict(data_population, res_selection, k)\n",
    "    current_w_embed = data_population.get_indexed_subpopulation(res_selection_dict)\n",
    "    print(\"size strat\", len(current_w_embed))\n",
    "    eval_out_strat[k] = run_evaluators(evaluators_other, current_w_embed)\n",
    "    \n",
    "    ## non-stratified\n",
    "    n_total = k*len(penalty_dict)\n",
    "    all_pens = torch.cat([p for p in penalty_dict.values()])\n",
    "    print(all_pens.shape)\n",
    "    use_idx = torch.zeros(len(data_population))\n",
    "    use_idx[all_pens.argsort(dim=-1)[:n_total]]=1\n",
    "    nonstrat_selection_dict = create_overall_topk_selection_dict(data_population, use_idx)\n",
    "    current_w_embed_ns = data_population.get_indexed_subpopulation(nonstrat_selection_dict)\n",
    "    print(\"size nonstrat\", len(current_w_embed_ns))\n",
    "    eval_out_nonstrat[k] = run_evaluators(evaluators_other, current_w_embed_ns)"
   ]
  },
  {
   "cell_type": "code",
   "execution_count": 13,
   "id": "7e45845b-1d19-49f2-93fd-1d14b49d6471",
   "metadata": {},
   "outputs": [
    {
     "data": {
      "image/png": "[encoded data removed]",
      "text/plain": [
       "<Figure size 1000x500 with 1 Axes>"
      ]
     },
     "metadata": {},
     "output_type": "display_data"
    }
   ],
   "source": [
    "run = \"c_opt_indep_ragtqa_nosel2-v2\"\n",
    "import numpy as np\n",
    "import json\n",
    "import matplotlib.pyplot as plt\n",
    "roc_list = []\n",
    "per_sample_list = []\n",
    "for logs, c in zip([4.5, 5.0, 5.5, 6.0, 6.5], [\"tab:purple\", \"tab:blue\", \"tab:green\", \"tab:orange\", \"tab:red\"]):\n",
    "    eval_out = json.load(open(f\"runs/{run}/eval_select_strat-{logs}.json\"))\n",
    "    x = np.array([float(x) for x in eval_out.keys()])\n",
    "    y = np.array(([k[\"tasksource_v1\"][\"roc\"] for k in eval_out.values()]))\n",
    "    order = np.argsort(x)\n",
    "    plt.plot(np.sort(x), y[order], \"-s\", c=c, label=f\"lr=10^({logs}), strat\")\n",
    "    roc_list.append( y[order])\n",
    "    per_sample_list.append(np.sort(x))\n",
    "    #eval_out_non = json.load(open(f\"runs/{run}/eval_select_nonstrat-{logs}.json\"))\n",
    "    #x = np.array([float(x) for x in eval_out_non.keys()])\n",
    "    #order = np.argsort(x)\n",
    "    #y = np.array(([k[\"tasksource_v1\"][\"roc\"] for k in eval_out_non.values()]))\n",
    "    #plt.plot(np.sort(x), y[order], \"--s\", c=c)\n",
    "    #roc_list.append( y[order])\n",
    "    #per_sample_list.append(np.sort(x))\n",
    "plt.plot([3,3], [0.5, 0.9], \"--k\", label=\"original dataset size\")\n",
    "plt.gca().set_xscale('log')\n",
    "#plt.xticks(x)\n",
    "plt.xlabel(\"examples per evidence\")\n",
    "plt.ylabel(\"ROC\")\n",
    "plt.gcf().set_size_inches(10,5)\n",
    "plt.legend()\n",
    "roc_list = np.concatenate(roc_list)\n",
    "per_sample_list = np.concatenate(per_sample_list)"
   ]
  },
  {
   "cell_type": "code",
   "execution_count": 82,
   "id": "c46bc1e2-790f-4ed3-9f17-25f8d29e0df5",
   "metadata": {},
   "outputs": [
    {
     "data": {
      "image/png": "[encoded data removed]",
      "text/plain": [
       "<Figure size 1000x500 with 1 Axes>"
      ]
     },
     "metadata": {},
     "output_type": "display_data"
    }
   ],
   "source": [
    "run = \"c_opt_indep_ragtqa_nosel2\"\n",
    "model=\"vectara_v2\"\n",
    "import numpy as np\n",
    "import json\n",
    "import matplotlib.pyplot as plt\n",
    "roc_list = []\n",
    "per_sample_list = []\n",
    "for logs, c in zip([4.5], [\"tab:purple\"]):\n",
    "    eval_out = json.load(open(f\"runs/{run}/eval_select_strat-{logs}.json\"))\n",
    "    x = np.array([float(x) for x in eval_out.keys()])\n",
    "    y = np.array(([k[model][\"roc\"] for k in eval_out.values()]))\n",
    "    order = np.argsort(x)\n",
    "    plt.plot(np.sort(x), y[order], \"-s\", c=c, label=f\"{logs}, strat\")\n",
    "    roc_list.append( y[order])\n",
    "    per_sample_list.append(np.sort(x))\n",
    "    eval_out_non = json.load(open(f\"runs/{run}/eval_select_nonstrat-{logs}.json\"))\n",
    "    x = np.array([float(x) for x in eval_out_non.keys()])\n",
    "    order = np.argsort(x)\n",
    "    y = np.array(([k[model][\"roc\"] for k in eval_out_non.values()]))\n",
    "    #plt.plot(np.sort(x), y[order], \"--s\", c=c)\n",
    "    roc_list.append( y[order])\n",
    "    per_sample_list.append(np.sort(x))\n",
    "plt.gca().set_xscale('log')\n",
    "#plt.xticks(x)\n",
    "plt.xlabel(\"examples per evidence\")\n",
    "plt.ylabel(\"ROC\")\n",
    "plt.gcf().set_size_inches(10,5)\n",
    "plt.legend()\n",
    "roc_list = np.concatenate(roc_list)\n",
    "per_sample_list = np.concatenate(per_sample_list)"
   ]
  },
  {
   "cell_type": "markdown",
   "id": "ac3ea53a-20d1-4b94-9baa-04593c46861f",
   "metadata": {},
   "source": [
    "## Hyperparameters"
   ]
  },
  {
   "cell_type": "code",
   "execution_count": 6,
   "id": "2cb83e23-6555-4f92-b905-1b7cd38b6861",
   "metadata": {},
   "outputs": [],
   "source": [
    "import json\n",
    "import numpy as np\n",
    "import matplotlib.pyplot as plt\n",
    "model=\"tasksource\"\n",
    "run = \"c_opt_indep_ragtqa_nosel2-v2\"\n",
    "res = json.load(open(f\"runs/{run}/hyperopt_{model}.json\"))"
   ]
  },
  {
   "cell_type": "code",
   "execution_count": 7,
   "id": "11aa2e51-77fa-44fd-be9c-22adb473c80f",
   "metadata": {},
   "outputs": [
    {
     "data": {
      "text/plain": [
       "<matplotlib.collections.PathCollection at 0x7f5709f0b070>"
      ]
     },
     "execution_count": 7,
     "metadata": {},
     "output_type": "execute_result"
    },
    {
     "data": {
      "image/png": "[encoded data removed]",
      "text/plain": [
       "<Figure size 640x480 with 1 Axes>"
      ]
     },
     "metadata": {},
     "output_type": "display_data"
    }
   ],
   "source": [
    "x1=\"source_radius\"\n",
    "x2=\"target_radius\"\n",
    "metric = \"roc\"\n",
    "x = np.array([float(item[\"parameters\"][x1]) for item in res])\n",
    "y = np.array([float(item[\"parameters\"][x2]) for item in res])\n",
    "z = np.array([float(item[metric]) for item in res])\n",
    "z = 500*(z-np.min(z))\n",
    "plt.plot(x, x, \"--k\")\n",
    "plt.xlabel(f\"$\\sigma_r$ (synthetic data)\")\n",
    "plt.ylabel(f\"$\\sigma_q$ (target data)\")\n",
    "plt.scatter(x,y,z, marker=\"o\", facecolors='none', edgecolors='b')"
   ]
  },
  {
   "cell_type": "code",
   "execution_count": 8,
   "id": "39f3251b-bd9f-4a21-89ca-15462e6e66ba",
   "metadata": {},
   "outputs": [
    {
     "data": {
      "text/plain": [
       "Text(0, 0.5, 'loss_util_weight')"
      ]
     },
     "execution_count": 8,
     "metadata": {},
     "output_type": "execute_result"
    },
    {
     "data": {
      "image/png": "[encoded data removed]",
      "text/plain": [
       "<Figure size 640x480 with 1 Axes>"
      ]
     },
     "metadata": {},
     "output_type": "display_data"
    }
   ],
   "source": [
    "import json\n",
    "x1=\"label_cert_weight\"\n",
    "x2=\"loss_util_weight\"\n",
    "model=\"tasksource\"\n",
    "metric = \"roc\"\n",
    "\n",
    "res = json.load(open(f\"runs/{run}/hyperopt_{model}.json\"))\n",
    "x = np.array([np.log(float(item[\"parameters\"][x1])) for item in res])\n",
    "y = np.array([np.log(float(item[\"parameters\"][x2])) for item in res])\n",
    "z = np.array([float(item[metric]) for item in res])\n",
    "z = 500*(z-np.min(z))\n",
    "plt.scatter(x,y,z, marker=\"o\", facecolors='none', edgecolors='b')\n",
    "plt.xlabel(x1)\n",
    "plt.ylabel(x2)"
   ]
  },
  {
   "cell_type": "code",
   "execution_count": 9,
   "id": "0af46bd5-b558-471e-84cf-18bea2eef965",
   "metadata": {},
   "outputs": [
    {
     "data": {
      "text/plain": [
       "{'f1': 0.865271068169619,\n",
       " 'accuracy': 0.8058489033306255,\n",
       " 'precision': 0.8011928429423459,\n",
       " 'recall': 0.94049008168028,\n",
       " 'roc': 0.8429495379354669,\n",
       " 'pos_avg': 0.877975262057517,\n",
       " 'neg_avg': 0.3785398717210145,\n",
       " 'bacc': 0.745472953157077,\n",
       " 'parameters': {'target_radius_ratio': 0.8699615163052637,\n",
       "  'source_radius': 0.4,\n",
       "  'label_cert_weight': 134.7247816073547,\n",
       "  'loss_util_weight': 1.230115976244035,\n",
       "  'target_radius': 0.3479846065221055}}"
      ]
     },
     "execution_count": 9,
     "metadata": {},
     "output_type": "execute_result"
    }
   ],
   "source": [
    "res[np.argmax(z)]"
   ]
  },
  {
   "cell_type": "code",
   "execution_count": null,
   "id": "5c7d4088-fe8b-4461-b199-c5ce0b168d35",
   "metadata": {},
   "outputs": [],
   "source": []
  },
  {
   "cell_type": "raw",
   "id": "aa5cb987-cd05-4d7b-8afd-57fff17c6b23",
   "metadata": {},
   "source": [
    "from src.utils.data_utils import get_ragtruth_dataset"
   ]
  },
  {
   "cell_type": "code",
   "execution_count": 68,
   "id": "e14d109c-9c89-41a5-b37c-d4051dce4328",
   "metadata": {},
   "outputs": [
    {
     "name": "stdout",
     "output_type": "stream",
     "text": [
      "Local files for RAGTruth not found. Falling back to S3...\n"
     ]
    }
   ],
   "source": [
    "df_test = load_ragtruth(split=\"test\")"
   ]
  },
  {
   "cell_type": "code",
   "execution_count": 69,
   "id": "a4301173-7b3d-40ae-90bf-095b2059b28b",
   "metadata": {},
   "outputs": [
    {
     "data": {
      "text/plain": [
       "1987"
      ]
     },
     "execution_count": 69,
     "metadata": {},
     "output_type": "execute_result"
    }
   ],
   "source": [
    "len(df_test)"
   ]
  },
  {
   "cell_type": "code",
   "execution_count": 77,
   "id": "64cace4b-c10a-4a58-9fb6-25ab4e369f66",
   "metadata": {},
   "outputs": [
    {
     "name": "stdout",
     "output_type": "stream",
     "text": [
      "Local files for RAGTruth not found. Falling back to S3...\n"
     ]
    }
   ],
   "source": [
    "df_train = get_ragtruth_dataset(split=\"val\")"
   ]
  },
  {
   "cell_type": "code",
   "execution_count": 78,
   "id": "889207b3-d0f4-4ebb-ae8a-e02032c87db8",
   "metadata": {},
   "outputs": [
    {
     "data": {
      "text/plain": [
       "3744"
      ]
     },
     "execution_count": 78,
     "metadata": {},
     "output_type": "execute_result"
    }
   ],
   "source": [
    "len(df_train)"
   ]
  },
  {
   "cell_type": "code",
   "execution_count": 72,
   "id": "38014c15-bc95-47f4-88ef-12931f7bd478",
   "metadata": {},
   "outputs": [
    {
     "data": {
      "text/html": [
       "<div>\n",
       "<style scoped>\n",
       "    .dataframe tbody tr th:only-of-type {\n",
       "        vertical-align: middle;\n",
       "    }\n",
       "\n",
       "    .dataframe tbody tr th {\n",
       "        vertical-align: top;\n",
       "    }\n",
       "\n",
       "    .dataframe thead th {\n",
       "        text-align: right;\n",
       "    }\n",
       "</style>\n",
       "<table border=\"1\" class=\"dataframe\">\n",
       "  <thead>\n",
       "    <tr style=\"text-align: right;\">\n",
       "      <th></th>\n",
       "      <th>id</th>\n",
       "      <th>source_id</th>\n",
       "      <th>model</th>\n",
       "      <th>temperature</th>\n",
       "      <th>labels</th>\n",
       "      <th>split</th>\n",
       "      <th>quality</th>\n",
       "      <th>response</th>\n",
       "      <th>task_type</th>\n",
       "      <th>source</th>\n",
       "      <th>source_info</th>\n",
       "      <th>prompt</th>\n",
       "    </tr>\n",
       "  </thead>\n",
       "  <tbody>\n",
       "    <tr>\n",
       "      <th>0</th>\n",
       "      <td>0</td>\n",
       "      <td>15592</td>\n",
       "      <td>gpt-4-0613</td>\n",
       "      <td>0.70</td>\n",
       "      <td>[]</td>\n",
       "      <td>val</td>\n",
       "      <td>good</td>\n",
       "      <td>The Anne Frank House has revealed that Anne Fr...</td>\n",
       "      <td>Summary</td>\n",
       "      <td>CNN/DM</td>\n",
       "      <td>Seventy years ago, Anne Frank died of typhus i...</td>\n",
       "      <td>Summarize the following news within 116 words:...</td>\n",
       "    </tr>\n",
       "    <tr>\n",
       "      <th>1</th>\n",
       "      <td>1</td>\n",
       "      <td>15592</td>\n",
       "      <td>gpt-3.5-turbo-0613</td>\n",
       "      <td>0.70</td>\n",
       "      <td>[]</td>\n",
       "      <td>val</td>\n",
       "      <td>good</td>\n",
       "      <td>New research released by the Anne Frank House ...</td>\n",
       "      <td>Summary</td>\n",
       "      <td>CNN/DM</td>\n",
       "      <td>Seventy years ago, Anne Frank died of typhus i...</td>\n",
       "      <td>Summarize the following news within 116 words:...</td>\n",
       "    </tr>\n",
       "    <tr>\n",
       "      <th>2</th>\n",
       "      <td>2</td>\n",
       "      <td>15592</td>\n",
       "      <td>mistral-7B-instruct</td>\n",
       "      <td>0.70</td>\n",
       "      <td>[{'start': 636, 'end': 653, 'text': 'February ...</td>\n",
       "      <td>val</td>\n",
       "      <td>good</td>\n",
       "      <td>New research conducted by the Anne Frank House...</td>\n",
       "      <td>Summary</td>\n",
       "      <td>CNN/DM</td>\n",
       "      <td>Seventy years ago, Anne Frank died of typhus i...</td>\n",
       "      <td>Summarize the following news within 116 words:...</td>\n",
       "    </tr>\n",
       "    <tr>\n",
       "      <th>3</th>\n",
       "      <td>3</td>\n",
       "      <td>15592</td>\n",
       "      <td>llama-2-7b-chat</td>\n",
       "      <td>0.70</td>\n",
       "      <td>[{'start': 693, 'end': 754, 'text': 'Anne's di...</td>\n",
       "      <td>val</td>\n",
       "      <td>good</td>\n",
       "      <td>Here is a summary of the article in 115 words ...</td>\n",
       "      <td>Summary</td>\n",
       "      <td>CNN/DM</td>\n",
       "      <td>Seventy years ago, Anne Frank died of typhus i...</td>\n",
       "      <td>Summarize the following news within 116 words:...</td>\n",
       "    </tr>\n",
       "    <tr>\n",
       "      <th>4</th>\n",
       "      <td>4</td>\n",
       "      <td>15592</td>\n",
       "      <td>llama-2-13b-chat</td>\n",
       "      <td>0.70</td>\n",
       "      <td>[]</td>\n",
       "      <td>val</td>\n",
       "      <td>good</td>\n",
       "      <td>Seventy years ago, Anne Frank died of typhus i...</td>\n",
       "      <td>Summary</td>\n",
       "      <td>CNN/DM</td>\n",
       "      <td>Seventy years ago, Anne Frank died of typhus i...</td>\n",
       "      <td>Summarize the following news within 116 words:...</td>\n",
       "    </tr>\n",
       "    <tr>\n",
       "      <th>...</th>\n",
       "      <td>...</td>\n",
       "      <td>...</td>\n",
       "      <td>...</td>\n",
       "      <td>...</td>\n",
       "      <td>...</td>\n",
       "      <td>...</td>\n",
       "      <td>...</td>\n",
       "      <td>...</td>\n",
       "      <td>...</td>\n",
       "      <td>...</td>\n",
       "      <td>...</td>\n",
       "      <td>...</td>\n",
       "    </tr>\n",
       "    <tr>\n",
       "      <th>17785</th>\n",
       "      <td>17785</td>\n",
       "      <td>12460</td>\n",
       "      <td>gpt-3.5-turbo-0613</td>\n",
       "      <td>0.70</td>\n",
       "      <td>[]</td>\n",
       "      <td>val</td>\n",
       "      <td>good</td>\n",
       "      <td>Eating tomatoes can provide nutrition benefits...</td>\n",
       "      <td>QA</td>\n",
       "      <td>MARCO</td>\n",
       "      <td>{'question': 'what are nutrition benefits eati...</td>\n",
       "      <td>Briefly answer the following question:\\nwhat a...</td>\n",
       "    </tr>\n",
       "    <tr>\n",
       "      <th>17786</th>\n",
       "      <td>17786</td>\n",
       "      <td>12460</td>\n",
       "      <td>mistral-7B-instruct</td>\n",
       "      <td>0.70</td>\n",
       "      <td>[{'start': 193, 'end': 223, 'text': 'and suppo...</td>\n",
       "      <td>val</td>\n",
       "      <td>good</td>\n",
       "      <td>Based on the given passages, it appears that e...</td>\n",
       "      <td>QA</td>\n",
       "      <td>MARCO</td>\n",
       "      <td>{'question': 'what are nutrition benefits eati...</td>\n",
       "      <td>Briefly answer the following question:\\nwhat a...</td>\n",
       "    </tr>\n",
       "    <tr>\n",
       "      <th>17787</th>\n",
       "      <td>17787</td>\n",
       "      <td>12460</td>\n",
       "      <td>llama-2-7b-chat</td>\n",
       "      <td>0.70</td>\n",
       "      <td>[{'start': 634, 'end': 690, 'text': 'reducing ...</td>\n",
       "      <td>val</td>\n",
       "      <td>good</td>\n",
       "      <td>Based on the provided passages, here are the n...</td>\n",
       "      <td>QA</td>\n",
       "      <td>MARCO</td>\n",
       "      <td>{'question': 'what are nutrition benefits eati...</td>\n",
       "      <td>Briefly answer the following question:\\nwhat a...</td>\n",
       "    </tr>\n",
       "    <tr>\n",
       "      <th>17788</th>\n",
       "      <td>17788</td>\n",
       "      <td>12460</td>\n",
       "      <td>llama-2-13b-chat</td>\n",
       "      <td>1.00</td>\n",
       "      <td>[]</td>\n",
       "      <td>val</td>\n",
       "      <td>good</td>\n",
       "      <td>Based on the provided passages, here are the n...</td>\n",
       "      <td>QA</td>\n",
       "      <td>MARCO</td>\n",
       "      <td>{'question': 'what are nutrition benefits eati...</td>\n",
       "      <td>Briefly answer the following question:\\nwhat a...</td>\n",
       "    </tr>\n",
       "    <tr>\n",
       "      <th>17789</th>\n",
       "      <td>17789</td>\n",
       "      <td>12460</td>\n",
       "      <td>llama-2-70b-chat</td>\n",
       "      <td>0.85</td>\n",
       "      <td>[]</td>\n",
       "      <td>val</td>\n",
       "      <td>good</td>\n",
       "      <td>Based on the given passages, here are some of ...</td>\n",
       "      <td>QA</td>\n",
       "      <td>MARCO</td>\n",
       "      <td>{'question': 'what are nutrition benefits eati...</td>\n",
       "      <td>Briefly answer the following question:\\nwhat a...</td>\n",
       "    </tr>\n",
       "  </tbody>\n",
       "</table>\n",
       "<p>4421 rows × 12 columns</p>\n",
       "</div>"
      ],
      "text/plain": [
       "          id  source_id                model  temperature  \\\n",
       "0          0      15592           gpt-4-0613         0.70   \n",
       "1          1      15592   gpt-3.5-turbo-0613         0.70   \n",
       "2          2      15592  mistral-7B-instruct         0.70   \n",
       "3          3      15592      llama-2-7b-chat         0.70   \n",
       "4          4      15592     llama-2-13b-chat         0.70   \n",
       "...      ...        ...                  ...          ...   \n",
       "17785  17785      12460   gpt-3.5-turbo-0613         0.70   \n",
       "17786  17786      12460  mistral-7B-instruct         0.70   \n",
       "17787  17787      12460      llama-2-7b-chat         0.70   \n",
       "17788  17788      12460     llama-2-13b-chat         1.00   \n",
       "17789  17789      12460     llama-2-70b-chat         0.85   \n",
       "\n",
       "                                                  labels split quality  \\\n",
       "0                                                     []   val    good   \n",
       "1                                                     []   val    good   \n",
       "2      [{'start': 636, 'end': 653, 'text': 'February ...   val    good   \n",
       "3      [{'start': 693, 'end': 754, 'text': 'Anne's di...   val    good   \n",
       "4                                                     []   val    good   \n",
       "...                                                  ...   ...     ...   \n",
       "17785                                                 []   val    good   \n",
       "17786  [{'start': 193, 'end': 223, 'text': 'and suppo...   val    good   \n",
       "17787  [{'start': 634, 'end': 690, 'text': 'reducing ...   val    good   \n",
       "17788                                                 []   val    good   \n",
       "17789                                                 []   val    good   \n",
       "\n",
       "                                                response task_type  source  \\\n",
       "0      The Anne Frank House has revealed that Anne Fr...   Summary  CNN/DM   \n",
       "1      New research released by the Anne Frank House ...   Summary  CNN/DM   \n",
       "2      New research conducted by the Anne Frank House...   Summary  CNN/DM   \n",
       "3      Here is a summary of the article in 115 words ...   Summary  CNN/DM   \n",
       "4      Seventy years ago, Anne Frank died of typhus i...   Summary  CNN/DM   \n",
       "...                                                  ...       ...     ...   \n",
       "17785  Eating tomatoes can provide nutrition benefits...        QA   MARCO   \n",
       "17786  Based on the given passages, it appears that e...        QA   MARCO   \n",
       "17787  Based on the provided passages, here are the n...        QA   MARCO   \n",
       "17788  Based on the provided passages, here are the n...        QA   MARCO   \n",
       "17789  Based on the given passages, here are some of ...        QA   MARCO   \n",
       "\n",
       "                                             source_info  \\\n",
       "0      Seventy years ago, Anne Frank died of typhus i...   \n",
       "1      Seventy years ago, Anne Frank died of typhus i...   \n",
       "2      Seventy years ago, Anne Frank died of typhus i...   \n",
       "3      Seventy years ago, Anne Frank died of typhus i...   \n",
       "4      Seventy years ago, Anne Frank died of typhus i...   \n",
       "...                                                  ...   \n",
       "17785  {'question': 'what are nutrition benefits eati...   \n",
       "17786  {'question': 'what are nutrition benefits eati...   \n",
       "17787  {'question': 'what are nutrition benefits eati...   \n",
       "17788  {'question': 'what are nutrition benefits eati...   \n",
       "17789  {'question': 'what are nutrition benefits eati...   \n",
       "\n",
       "                                                  prompt  \n",
       "0      Summarize the following news within 116 words:...  \n",
       "1      Summarize the following news within 116 words:...  \n",
       "2      Summarize the following news within 116 words:...  \n",
       "3      Summarize the following news within 116 words:...  \n",
       "4      Summarize the following news within 116 words:...  \n",
       "...                                                  ...  \n",
       "17785  Briefly answer the following question:\\nwhat a...  \n",
       "17786  Briefly answer the following question:\\nwhat a...  \n",
       "17787  Briefly answer the following question:\\nwhat a...  \n",
       "17788  Briefly answer the following question:\\nwhat a...  \n",
       "17789  Briefly answer the following question:\\nwhat a...  \n",
       "\n",
       "[4421 rows x 12 columns]"
      ]
     },
     "execution_count": 72,
     "metadata": {},
     "output_type": "execute_result"
    }
   ],
   "source": [
    "df_val"
   ]
  },
  {
   "cell_type": "code",
   "execution_count": 108,
   "id": "50f11ec5-dad8-4e98-9fc4-ac15f44359a9",
   "metadata": {},
   "outputs": [],
   "source": [
    "import src.sync_data.initial_generators as generators"
   ]
  },
  {
   "cell_type": "code",
   "execution_count": 110,
   "id": "9d5930f4-686c-4da8-b235-e51c7e82f5ef",
   "metadata": {},
   "outputs": [],
   "source": [
    "mycls = getattr(generators, \"FromFile\")"
   ]
  },
  {
   "cell_type": "code",
   "execution_count": 111,
   "id": "3012f83e-6600-4dcf-b5ca-904e0cb4d8a6",
   "metadata": {},
   "outputs": [
    {
     "data": {
      "text/plain": [
       "<src.sync_data.initial_generators.FromFile at 0x7fe05c73d8a0>"
      ]
     },
     "execution_count": 111,
     "metadata": {},
     "output_type": "execute_result"
    }
   ],
   "source": [
    "mycls()"
   ]
  },
  {
   "cell_type": "code",
   "execution_count": null,
   "id": "7f021929-ec62-4a1f-98b9-3d774374fda0",
   "metadata": {},
   "outputs": [],
   "source": []
  }
 ],
 "metadata": {
  "kernelspec": {
   "display_name": "Python 3 (ipykernel)",
   "language": "python",
   "name": "python3"
  },
  "language_info": {
   "codemirror_mode": {
    "name": "ipython",
    "version": 3
   },
   "file_extension": ".py",
   "mimetype": "text/x-python",
   "name": "python",
   "nbconvert_exporter": "python",
   "pygments_lexer": "ipython3",
   "version": "3.10.9"
  }
 },
 "nbformat": 4,
 "nbformat_minor": 5
}
